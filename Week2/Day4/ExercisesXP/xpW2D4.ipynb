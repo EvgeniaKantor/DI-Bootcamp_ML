{
 "cells": [
  {
   "cell_type": "markdown",
   "metadata": {},
   "source": [
    "*Exercise 1*"
   ]
  },
  {
   "cell_type": "code",
   "execution_count": null,
   "metadata": {},
   "outputs": [],
   "source": [
    "%pip install requests"
   ]
  },
  {
   "cell_type": "code",
   "execution_count": null,
   "metadata": {},
   "outputs": [
    {
     "name": "stdout",
     "output_type": "stream",
     "text": [
      "Welcome to Random Sentence Generator!\n",
      "This program generates a random sentence of a specified length.\n",
      "Random sentence: trillionaires bearwards chintses shoalnesses nilpotent overvotes resenter\n"
     ]
    }
   ],
   "source": [
    "import os\n",
    "import requests\n",
    "import random\n",
    "# In this exercise we will create a random sentence generator. \n",
    "# We will do this by asking the user how long the sentence should be and then printing the generated sentence.\n",
    "# Hint : The generated sentences do not have to make sense.\n",
    "# Download this word list\n",
    "dir_path = os.getcwd()\n",
    "url = 'http://norvig.com/ngrams/sowpods.txt'\n",
    "response = requests.get(url)\n",
    "\n",
    "if response.status_code == 200:  \n",
    "    with open(os.path.join(dir_path, 'sowpods.txt'), 'wb') as f:\n",
    "        f.write(response.content)\n",
    "else:\n",
    "    print(f\"Failed to retrieve the file. Status code: {response.status_code}\")\n",
    "\n",
    "# Create a function called get_words_from_file. \n",
    "# This function should read the file’s content and return the words as a collection. \n",
    "# What is the correct data type to store the words?\n",
    "def get_words_from_file(f_path):\n",
    "    with open(f_path, 'r') as f:\n",
    "        words = f.read().split()\n",
    "    return words  #The function will return a list of words (list)\n",
    "\n",
    "# Create another function called get_random_sentence which takes a single parameter called length. \n",
    "# The length parameter will be used to determine how many words the sentence should have. The function should:\n",
    "# use the words list to get your random words.\n",
    "# the amount of words should be the value of the length parameter.\n",
    "# Take the random words and create a sentence (using a python method), the sentence should be lower case.\n",
    "\n",
    "def get_random_sentence(length, words):\n",
    "    random_words = random.sample(words, length)\n",
    "    sentence = ' '.join(word.lower() for word in random_words)\n",
    "    return sentence\n",
    "\n",
    "# Create a function called main which will:\n",
    "# Print a message explaining what the program does.\n",
    "def main():\n",
    "    print(\"Welcome to Random Sentence Generator!\")\n",
    "    print(\"This program generates a random sentence of a specified length.\")\n",
    "    words = get_words_from_file('sowpods.txt')\n",
    "# Ask the user how long they want the sentence to be. \n",
    "# Acceptable values are: an integer between 2 and 20. Validate your data and test your validation!\n",
    "# If the user inputs incorrect data, print an error message and end the program.\n",
    "# If the user inputs correct data, run your code.\n",
    "\n",
    "    while True:\n",
    "                try:\n",
    "                    length = int(input(\"Enter the length of the sentence (2-20): \"))\n",
    "                    if length < 2 or length > 20:\n",
    "                        raise ValueError(\"Invalid length\")\n",
    "                    break\n",
    "                except ValueError as e:\n",
    "                    print(\"Invalid input. Please enter a number between 2 and 20\")\n",
    "    \n",
    "    sentence = get_random_sentence(length, words)\n",
    "    print(\"Random sentence:\", sentence)\n",
    "\n",
    "# Run the main function\n",
    "if __name__ == \"__main__\":\n",
    "    main()"
   ]
  },
  {
   "cell_type": "markdown",
   "metadata": {},
   "source": [
    "*Exercise 2*"
   ]
  },
  {
   "cell_type": "code",
   "execution_count": null,
   "metadata": {},
   "outputs": [],
   "source": [
    "%pip install json"
   ]
  },
  {
   "cell_type": "code",
   "execution_count": 8,
   "metadata": {},
   "outputs": [
    {
     "name": "stdout",
     "output_type": "stream",
     "text": [
      "Salary: 7000\n",
      "JSON dat saved to 'json_file' file\n",
      "{'company': {'employee': {'name': 'emma', 'payable': {'salary': 7000, 'bonus': 800}, 'birth_data': '1970-01-01'}}}\n"
     ]
    }
   ],
   "source": [
    "import json\n",
    "sampleJson = \"\"\"{ \n",
    "   \"company\":{ \n",
    "      \"employee\":{ \n",
    "         \"name\":\"emma\",\n",
    "         \"payable\":{ \n",
    "            \"salary\":7000,\n",
    "            \"bonus\":800\n",
    "         }\n",
    "      }\n",
    "   }\n",
    "}\"\"\"\n",
    "\n",
    "# Access the nested “salary” key from the JSON-string above\n",
    "data = json.loads(sampleJson)\n",
    "salary = data['company']['employee']['payable']['salary']\n",
    "print(\"Salary:\", salary)\n",
    "\n",
    "# Add a key called “birth_date” to the JSON-string at the same level as the “name” key\n",
    "data['company']['employee']['birth_data'] = \"1970-01-01\"\n",
    "\n",
    "# Save the dictionary as JSON to a file\n",
    "with open('json_file', 'w') as f:\n",
    "    json.dump(data, f, indent=4)\n",
    "\n",
    "print(\"JSON dat saved to 'json_file' file\")\n",
    "print(data)"
   ]
  }
 ],
 "metadata": {
  "kernelspec": {
   "display_name": "Python 3",
   "language": "python",
   "name": "python3"
  },
  "language_info": {
   "codemirror_mode": {
    "name": "ipython",
    "version": 3
   },
   "file_extension": ".py",
   "mimetype": "text/x-python",
   "name": "python",
   "nbconvert_exporter": "python",
   "pygments_lexer": "ipython3",
   "version": "3.11.9"
  }
 },
 "nbformat": 4,
 "nbformat_minor": 2
}
