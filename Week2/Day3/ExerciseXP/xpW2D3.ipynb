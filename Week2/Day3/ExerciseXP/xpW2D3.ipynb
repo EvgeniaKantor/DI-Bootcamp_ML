{
 "cells": [
  {
   "cell_type": "markdown",
   "metadata": {},
   "source": [
    "*Exercise 1*"
   ]
  },
  {
   "cell_type": "code",
   "execution_count": 7,
   "metadata": {},
   "outputs": [
    {
     "name": "stdout",
     "output_type": "stream",
     "text": [
      "5 dollars\n",
      "5\n",
      "5 dollars\n",
      "10\n",
      "15\n",
      "5 dollars\n",
      "10 dollars\n",
      "20 dollars\n",
      "Cannot add between Currency type <dollar> and <shekel>\n"
     ]
    }
   ],
   "source": [
    "class Currency:\n",
    "    def __init__(self, currency, amount):\n",
    "        self.currency = currency\n",
    "        self.amount = amount\n",
    "\n",
    "    #Your code starts HERE\n",
    "    def __str__(self):\n",
    "        currency_name = self.currency if self.amount == 1 else self.currency + 's'\n",
    "        return f\"{self.amount} {currency_name}\"   #'5 dollars'\n",
    "    \n",
    "    def __int__(self):\n",
    "        return self.amount  #5\n",
    "\n",
    "    def __repr__(self):\n",
    "        return self.__str__()  #'5 dollars'\n",
    "\n",
    "    def __add__(self, other):\n",
    "        if isinstance(other, int):\n",
    "            return self.amount + other\n",
    "        if isinstance(other, Currency):\n",
    "            if self.currency != other.currency:\n",
    "                raise TypeError(f\"Cannot add between Currency type <{self.currency}> and <{other.currency}>\")\n",
    "            return self.amount + other.amount\n",
    "        return NotImplemented\n",
    "\n",
    "    def __iadd__(self, other):\n",
    "        if isinstance(other, int):\n",
    "            self.amount += other\n",
    "        elif isinstance(other, Currency):\n",
    "            if self.currency != other.currency:\n",
    "                raise TypeError(f\"Cannot add between Currency type <{self.currency}> and <{other.currency}>\")\n",
    "            self.amount += other.amount\n",
    "        else:\n",
    "            raise TypeError(\"Unsupported operand type for +=\")\n",
    "        return self\n",
    "\n",
    "    \n",
    "c1 = Currency('dollar', 5)\n",
    "c2 = Currency('dollar', 10)\n",
    "c3 = Currency('shekel', 1)\n",
    "c4 = Currency('shekel', 10)\n",
    "\n",
    "print(str(c1))   # '5 dollars'\n",
    "print(int(c1))   # 5\n",
    "print(repr(c1))  # '5 dollars'\n",
    "\n",
    "print(c1 + 5)    # '10 dollars' (returns a new Currency object)\n",
    "print(c1 + c2)   # '15 dollars' (returns a new Currency object)\n",
    "\n",
    "print(c1)        # '5 dollars' (original c1 remains unchanged)\n",
    "\n",
    "c1 += 5\n",
    "print(c1)        # '10 dollars' (c1 is modified in-place)\n",
    "\n",
    "c1 += c2\n",
    "print(c1)        # '20 dollars' (c1 is modified in-place)\n",
    "\n",
    "try:\n",
    "    print(c1 + c3)  # Raises TypeError\n",
    "except TypeError as e:\n",
    "    print(e)  # Expected: Cannot add between Currency type <dollar> and <shekel>\n",
    "    "
   ]
  },
  {
   "cell_type": "markdown",
   "metadata": {},
   "source": [
    "*Exercise 2*"
   ]
  },
  {
   "cell_type": "code",
   "execution_count": 8,
   "metadata": {},
   "outputs": [
    {
     "name": "stdout",
     "output_type": "stream",
     "text": [
      "9\n"
     ]
    }
   ],
   "source": [
    "# In a file named func.py create a function that sum 2 numbers, and prints the result\n",
    "# Import the function and call it to print the result\n",
    "\n",
    "from func import get_sum\n",
    "print(get_sum(4,5))"
   ]
  },
  {
   "cell_type": "markdown",
   "metadata": {},
   "source": [
    "*Exercise 3*"
   ]
  },
  {
   "cell_type": "code",
   "execution_count": 9,
   "metadata": {},
   "outputs": [
    {
     "name": "stdout",
     "output_type": "stream",
     "text": [
      "mlHXF\n"
     ]
    }
   ],
   "source": [
    "# Generate random String of length 5\n",
    "# Note: String must be the combination of the UPPER case and lower case letters only. \n",
    "# No numbers and a special symbol.\n",
    "# Hint: use the string module\n",
    "\n",
    "import random\n",
    "import string\n",
    "\n",
    "def generate_str(length):\n",
    "    letters = string.ascii_letters\n",
    "    return ''.join(random.choice(letters) for _ in range(length))\n",
    "\n",
    "random_string = generate_str(5)\n",
    "print(random_string)"
   ]
  },
  {
   "cell_type": "markdown",
   "metadata": {},
   "source": [
    "*Exercise 4*"
   ]
  },
  {
   "cell_type": "code",
   "execution_count": 10,
   "metadata": {},
   "outputs": [
    {
     "name": "stdout",
     "output_type": "stream",
     "text": [
      "Today is the 2025-02-13\n"
     ]
    }
   ],
   "source": [
    "# Create a function that displays the current date.\n",
    "# Hint : Use the datetime module.\n",
    "\n",
    "import datetime\n",
    "current_date = datetime.date.today()\n",
    "\n",
    "print(f\"Today is the {current_date}\")"
   ]
  },
  {
   "cell_type": "markdown",
   "metadata": {},
   "source": [
    "*Exercise 5*"
   ]
  },
  {
   "cell_type": "code",
   "execution_count": 19,
   "metadata": {},
   "outputs": [
    {
     "name": "stdout",
     "output_type": "stream",
     "text": [
      "January 1st is in 321 days, and 2:08:37.291400 hours\n"
     ]
    }
   ],
   "source": [
    "# Create a function that displays the amount of time left from now until January 1st.\n",
    "# (Example: the 1st of January is in 10 days and 10:34:01hours).\n",
    "\n",
    "from datetime import datetime\n",
    "\n",
    "now = datetime.now()\n",
    "\n",
    "jan1 = datetime(2026, 1, 1, 00, 0, 0)\n",
    "сountdown_to_new_year = jan1 - now\n",
    "hours = (сountdown_to_new_year // 3600)\n",
    "print(f\"January 1st is in {сountdown_to_new_year.days} days, and {hours} hours\")\n"
   ]
  },
  {
   "cell_type": "markdown",
   "metadata": {},
   "source": [
    "*Exercise 6*"
   ]
  },
  {
   "cell_type": "code",
   "execution_count": 27,
   "metadata": {},
   "outputs": [
    {
     "name": "stdout",
     "output_type": "stream",
     "text": [
      "You have lived 21178739 minutes\n"
     ]
    }
   ],
   "source": [
    "# Create a function that accepts a birthdate as an argument (in the format of your choice), \n",
    "# then displays a message stating how many minutes the user lived in his life\n",
    "from datetime import datetime\n",
    "\n",
    "def count_life_minutes(birthday_str):\n",
    "    birthday = datetime.strptime(birthday_str, '%Y-%m-%d')\n",
    "    now = datetime.now()\n",
    "    count_minutes = now - birthday\n",
    "    minutes = int(count_minutes.total_seconds() / 60)\n",
    "    return minutes\n",
    "\n",
    "birthday = '1984-11-08'\n",
    "total_minutes = count_life_minutes(birthday)\n",
    "print(f'You have lived {total_minutes} minutes')"
   ]
  },
  {
   "cell_type": "markdown",
   "metadata": {},
   "source": [
    "*Exercise 7*"
   ]
  },
  {
   "cell_type": "code",
   "execution_count": null,
   "metadata": {},
   "outputs": [
    {
     "name": "stderr",
     "output_type": "stream",
     "text": [
      "\n",
      "[notice] A new release of pip is available: 24.0 -> 25.0.1\n",
      "[notice] To update, run: python.exe -m pip install --upgrade pip\n"
     ]
    },
    {
     "name": "stdout",
     "output_type": "stream",
     "text": [
      "Collecting faker\n",
      "  Downloading Faker-36.1.0-py3-none-any.whl.metadata (15 kB)\n",
      "Collecting tzdata (from faker)\n",
      "  Downloading tzdata-2025.1-py2.py3-none-any.whl.metadata (1.4 kB)\n",
      "Downloading Faker-36.1.0-py3-none-any.whl (1.9 MB)\n",
      "   ---------------------------------------- 0.0/1.9 MB ? eta -:--:--\n",
      "   ---------------------------------------- 0.0/1.9 MB ? eta -:--:--\n",
      "    --------------------------------------- 0.0/1.9 MB 393.8 kB/s eta 0:00:05\n",
      "   -- ------------------------------------- 0.1/1.9 MB 939.4 kB/s eta 0:00:02\n",
      "   ---- ----------------------------------- 0.2/1.9 MB 1.4 MB/s eta 0:00:02\n",
      "   ---------- ----------------------------- 0.5/1.9 MB 2.3 MB/s eta 0:00:01\n",
      "   -------------------- ------------------- 1.0/1.9 MB 3.6 MB/s eta 0:00:01\n",
      "   ------------------------------ --------- 1.5/1.9 MB 4.9 MB/s eta 0:00:01\n",
      "   ---------------------------------------- 1.9/1.9 MB 5.6 MB/s eta 0:00:00\n",
      "Downloading tzdata-2025.1-py2.py3-none-any.whl (346 kB)\n",
      "   ---------------------------------------- 0.0/346.8 kB ? eta -:--:--\n",
      "   --------------------------------------  337.9/346.8 kB 21.8 MB/s eta 0:00:01\n",
      "   --------------------------------------- 346.8/346.8 kB 10.9 MB/s eta 0:00:00\n",
      "Installing collected packages: tzdata, faker\n",
      "Successfully installed faker-36.1.0 tzdata-2025.1\n"
     ]
    }
   ],
   "source": [
    "# Install the faker module, and take a look at the documentation and learn how to properly implement faker in your code.\n",
    "# Create an empty list called users. Tip: It should be a list of dictionaries.\n",
    "# Create a function that adds new dictionaries to the users list. Each user has \n",
    "# the following keys: name, adress, langage_code. Use faker to populate them with fake data.\n",
    "\n",
    "%pip install faker\n",
    "import faker"
   ]
  },
  {
   "cell_type": "code",
   "execution_count": 30,
   "metadata": {},
   "outputs": [
    {
     "name": "stdout",
     "output_type": "stream",
     "text": [
      "[{'name': 'Blake', 'address': '5863 Michael Neck Suite 486', 'language_code': 'hy'}, {'name': 'Alexandria', 'address': '636 Paul Row', 'language_code': 'fr'}, {'name': 'Keith', 'address': '7862 Curtis Viaduct', 'language_code': 'hi'}, {'name': 'Daniel', 'address': '443 Andrew Lock', 'language_code': 'id'}, {'name': 'Dawn', 'address': '68066 Jose Shore Suite 452', 'language_code': 'br'}]\n"
     ]
    }
   ],
   "source": [
    "from faker import Faker\n",
    "\n",
    "faker = Faker()\n",
    "users = []\n",
    "\n",
    "def add_user():\n",
    "    user = {\n",
    "        'name': faker.first_name(),\n",
    "        'address': faker.street_address(),\n",
    "        'language_code': faker.language_code()\n",
    "    }\n",
    "    users.append(user)\n",
    "\n",
    "for _ in range(5):\n",
    "    add_user()\n",
    "\n",
    "print(users)"
   ]
  }
 ],
 "metadata": {
  "kernelspec": {
   "display_name": "Python 3",
   "language": "python",
   "name": "python3"
  },
  "language_info": {
   "codemirror_mode": {
    "name": "ipython",
    "version": 3
   },
   "file_extension": ".py",
   "mimetype": "text/x-python",
   "name": "python",
   "nbconvert_exporter": "python",
   "pygments_lexer": "ipython3",
   "version": "3.11.9"
  }
 },
 "nbformat": 4,
 "nbformat_minor": 2
}
