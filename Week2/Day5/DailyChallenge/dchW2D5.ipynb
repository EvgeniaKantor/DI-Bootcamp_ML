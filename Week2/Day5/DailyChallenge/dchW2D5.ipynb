{
 "cells": [
  {
   "cell_type": "markdown",
   "metadata": {},
   "source": [
    "Part 1 : Quizz :\n",
    "Answer the following questions\n",
    "\n",
    "What is a class? It is a code template for creating object.\n",
    "What is an instance? It is a copy of the class with actual values, literally an object belonging to a specific class.\n",
    "What is encapsulation? It is a restriction access to methods and variables (using _ or __).\n",
    "What is abstraction? We don't need to know the complete logic, just to use it.\n",
    "What is inheritance? One class takes on the attributes and methods of another.\n",
    "What is multiple inheritance? The derived class is derived from more than one base class\n",
    "What is polymorphism? Different or related classes that use the same names for their functions.\n",
    "What is method resolution order or MRO? It is the order in wich Python looks for a method in a hierarchy of classes."
   ]
  }
 ],
 "metadata": {
  "language_info": {
   "name": "python"
  }
 },
 "nbformat": 4,
 "nbformat_minor": 2
}
