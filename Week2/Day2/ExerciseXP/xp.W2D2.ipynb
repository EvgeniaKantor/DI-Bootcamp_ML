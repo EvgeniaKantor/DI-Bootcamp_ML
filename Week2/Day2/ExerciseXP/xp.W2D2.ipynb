{
 "cells": [
  {
   "cell_type": "markdown",
   "metadata": {},
   "source": [
    "*Exercise 1*\n",
    "\n",
    "1) Create another cat breed named Siamese which inherits from the Cat class.\n",
    "2) Create a list called all_cats, which holds three cat instances : one Bengal, one Chartreux and one Siamese.\n",
    "3) Those three cats are Sara’s pets. Create a variable called sara_pets which value is an instance of the Pet class, and pass the variable all_cats to the new instance.\n",
    "4) Take all the cats for a walk, use the walk method."
   ]
  },
  {
   "cell_type": "code",
   "execution_count": 3,
   "metadata": {},
   "outputs": [
    {
     "name": "stdout",
     "output_type": "stream",
     "text": [
      "Bengal Cat is just walking around\n",
      "Chartreux Cat is just walking around\n",
      "Siamese Cat is just walking around\n"
     ]
    }
   ],
   "source": [
    "class Pets():\n",
    "    def __init__(self, animals):\n",
    "        self.animals = animals\n",
    "\n",
    "    def walk(self):\n",
    "        for animal in self.animals:\n",
    "            print(animal.walk())\n",
    "\n",
    "class Cat():\n",
    "    is_lazy = True\n",
    "\n",
    "    def __init__(self, name, age):\n",
    "        self.name = name\n",
    "        self.age = age\n",
    "\n",
    "    def walk(self):\n",
    "        return f'{self.name} is just walking around'\n",
    "\n",
    "class Bengal(Cat):\n",
    "    def sing(self, sounds):\n",
    "        return f'{sounds}'\n",
    "\n",
    "class Chartreux(Cat):\n",
    "    def sing(self, sounds):\n",
    "        return f'{sounds}'\n",
    "\n",
    "# Create another cat breed named Siamese which inherits from the Cat class\n",
    "class Siamese(Cat):\n",
    "    def sing(self, sounds):\n",
    "        return f'{sounds}'\n",
    "\n",
    "# Creating instances of the three cat breeds\n",
    "bengal_cat = Bengal(\"Bengal Cat\", 5)\n",
    "chartreux_cat = Chartreux(\"Chartreux Cat\", 3)\n",
    "siamese_cat = Siamese(\"Siamese Cat\", 4)\n",
    "\n",
    "# Create a list called all_cats, which holds three cat instances : one Bengal, one Chartreux and one Siamese.\n",
    "all_cats = [bengal_cat, chartreux_cat, siamese_cat]\n",
    "\n",
    "# Create a variable called sara_pets which value is an instance of the Pet class, \n",
    "# and pass the variable all_cats to the new instance\n",
    "\n",
    "sara_pets = Pets(all_cats)\n",
    "\n",
    "# Take all the cats for a walk, use the walk method\n",
    "sara_pets.walk()\n"
   ]
  },
  {
   "cell_type": "markdown",
   "metadata": {},
   "source": [
    "*Exercise 2*"
   ]
  },
  {
   "cell_type": "code",
   "execution_count": 9,
   "metadata": {},
   "outputs": [
    {
     "name": "stdout",
     "output_type": "stream",
     "text": [
      "Max is barking\n",
      "Max's speed: 250.0 km/h\n",
      "Nip is barking\n",
      "Nip's speed: 38.0 km/h\n",
      "Jack is barking\n",
      "Jack's speed: 38.89 km/h\n",
      "Max won the fight!\n",
      "Jack won the fight!\n",
      "Max won the fight!\n"
     ]
    }
   ],
   "source": [
    "# Create a class called Dog with the following attributes name, age, weight\n",
    "class Dog:\n",
    "    def __init__(self, name, age, weight):\n",
    "        self.name = name\n",
    "        self.age = age\n",
    "        self.weight = weight\n",
    "\n",
    "# Implement the following methods in the Dog class:\n",
    "# bark: returns a string which states: “<dog_name> is barking”    \n",
    "    def bark(self):\n",
    "        print(f\"{self.name} is barking\")\n",
    "\n",
    "# run_speed: returns the dogs running speed (weight/age*10)\n",
    "    def run_speed(self):\n",
    "        return round(self.weight / self.age * 10, 2)\n",
    "\n",
    "# fight : takes a parameter which value is another Dog instance, \n",
    "# called other_dog. This method returns a string stating which dog won the fight. \n",
    "# The winner should be the dog with the higher run_speed x weight.\n",
    "\n",
    "    def fight(self, other_dog):\n",
    "        self_score = self.run_speed() * self.weight\n",
    "        other_score = other_dog.run_speed() * other_dog.weight\n",
    "        \n",
    "        if self_score > other_score:\n",
    "            return f'{self.name} won the fight!'\n",
    "        elif self_score < other_score:\n",
    "            return f\"{other_dog.name} won the fight!\"\n",
    "        else:\n",
    "            return \"It's a tie!\"\n",
    "        \n",
    "# Create 3 dogs and run them through your class\n",
    "dog1 = Dog('Max', 2, 50)\n",
    "dog2 = Dog('Nip', 5, 19)\n",
    "dog3 = Dog('Jack', 18, 70)\n",
    "\n",
    "all_dogs = [dog1, dog2, dog3]\n",
    "for dog in all_dogs:\n",
    "    dog.bark()\n",
    "    print(f\"{dog.name}'s speed: {dog.run_speed()} km/h\")\n",
    "\n",
    "print(dog1.fight(dog2))\n",
    "print(dog2.fight(dog3))\n",
    "print(dog3.fight(dog1))"
   ]
  },
  {
   "cell_type": "markdown",
   "metadata": {},
   "source": [
    "*Exercise 3*"
   ]
  },
  {
   "cell_type": "code",
   "execution_count": 15,
   "metadata": {},
   "outputs": [],
   "source": [
    "# Create a new python file and import your Dog class from the previous exercise\n",
    "from Dog import Dog"
   ]
  },
  {
   "cell_type": "code",
   "execution_count": 16,
   "metadata": {},
   "outputs": [
    {
     "name": "stdout",
     "output_type": "stream",
     "text": [
      "Nice is barking\n",
      "Nice stands on his back legs\n",
      "Nice, Simpson all play together\n",
      "Sorry, Simpson is not trained yet!\n"
     ]
    }
   ],
   "source": [
    "# In the new python file, create a class named PetDog that inherits from Dog.\n",
    "# Add an attribute called trained to the __init__ method, \n",
    "# this attribute is a boolean and the value should be False by default.\n",
    "import random as rd\n",
    "\n",
    "class PetDog(Dog):\n",
    "    sentences = {1:\"does a barrel roll\", \n",
    "                 2:\"stands on his back legs\", \n",
    "                 3:\"shakes your hand\",\n",
    "                 4:\"plays dead\"}\n",
    "    def __init__(self, name, age, weight, trained=False):\n",
    "        super().__init__(name, age, weight)\n",
    "        self.trained = trained\n",
    "\n",
    "# Add the following methods:\n",
    "# train: prints the output of bark and switches the trained boolean to True\n",
    "    def train(self):\n",
    "        self.bark()\n",
    "        self.trained = True\n",
    "# play: takes a parameter which value is a few names of other Dog instances (use *args). \n",
    "# The method should print the following string: “dog_names all play together”.\n",
    "    def play(self, *dogs):\n",
    "        dog_names = \", \".join(dog.name for dog in dogs)\n",
    "        print(f\"{dog_names} all play together\")\n",
    "# do_a_trick: If the dog is trained the method should print one of the following sentences at random:\n",
    "# “dog_name does a barrel roll”.\n",
    "# “dog_name stands on his back legs”.\n",
    "# “dog_name shakes your hand”.\n",
    "# “dog_name plays dead”.\n",
    "    def do_a_trick(self):\n",
    "        if self.trained:\n",
    "            trick = self.sentences[rd.randint(1, 4)]\n",
    "            print(f\"{self.name} {trick}\")\n",
    "        else:\n",
    "            print(f\"Sorry, {self.name} is not trained yet!\")\n",
    "\n",
    "dog1 = PetDog(\"Nice\", 20, 3)\n",
    "dog2 = PetDog(\"Pretty\", 10,11)\n",
    "dog3 = PetDog(\"Simpson\", 3, 9)\n",
    "\n",
    "dog1.train()\n",
    "dog1.do_a_trick()  # Should print a trick\n",
    "\n",
    "dog2.play(dog1, dog3)  # Multiple dogs play together\n",
    "\n",
    "dog3.do_a_trick()  # Should print \"Sorry, Simpson is not trained yet!\"\n"
   ]
  },
  {
   "cell_type": "markdown",
   "metadata": {},
   "source": [
    "*Exercise 4* (with the Aaron)"
   ]
  },
  {
   "cell_type": "code",
   "execution_count": 21,
   "metadata": {},
   "outputs": [
    {
     "name": "stdout",
     "output_type": "stream",
     "text": [
      "Family: Smith\n",
      "Name: Michael, Age: 35, Gender: Male, Is child: False\n",
      "Name: Sarah, Age: 32, Gender: Female, Is child: False\n",
      "Congratulations to the Smith family! New member born.\n",
      "True\n",
      "True\n",
      "False\n"
     ]
    }
   ],
   "source": [
    "# Create a class called Family and implement the following attributes:\n",
    "\n",
    "# members: list of dictionaries\n",
    "# last_name : (string)\n",
    "class Person:\n",
    "    def __init__(self, name, age, gender, is_child):\n",
    "        self.name = name\n",
    "        self.age = age\n",
    "        self.gender = gender\n",
    "        self.is_child = is_child\n",
    "\n",
    "class Family:\n",
    "    def __init__(self, last_name, *args):\n",
    "        self.last_name = last_name\n",
    "        self.members = []\n",
    "        for person in args:\n",
    "            self.members.append({\"name\": person.name, \"age\": person.age, \"gender\": person.gender, \"is_child\": person.is_child})\n",
    "\n",
    "\n",
    "# Implement the following methods:\n",
    "# born: adds a child to the members list (use **kwargs), \n",
    "# don’t forget to print a message congratulating the family.\n",
    "    def born(self, **kwargs):\n",
    "        self.members.append(kwargs)\n",
    "        print(f\"Congratulations to the {self.last_name} family! New member born.\")\n",
    "\n",
    "# is_18: takes the name of a family member as a parameter and returns True if they are over 18 and False if not.\n",
    "    def is_18(self, name):\n",
    "        for member in self.members:\n",
    "            if member[\"name\"] == name:\n",
    "                return member[\"age\"] >= 18\n",
    "        return False\n",
    "# Create an instance of the Family class, with the last name of your choice, and the below members. \n",
    "# Then call all the methods you created in Point 2.\n",
    "\n",
    "    def family_presentation(self):\n",
    "        print(f\"Family: {self.last_name}\")\n",
    "        for member in self.members:\n",
    "            print(f\"Name: {member['name']}, Age: {member['age']}, Gender: {member['gender']}, Is child: {member['is_child']}\")\n",
    "\n",
    "\n",
    "michael = Person('Michael', 35, 'Male', False)\n",
    "sarah = Person('Sarah', 32, 'Female', False)\n",
    "\n",
    "my_family = Family(\"Smith\", michael, sarah)\n",
    "my_family.family_presentation()\n",
    "\n",
    "\n",
    "my_family.born(name=\"Alex\", age=5, gender=\"Male\", is_child=True)\n",
    "\n",
    "print(my_family.is_18(\"Michael\"))  # True\n",
    "print(my_family.is_18(\"Sarah\"))  # True\n",
    "print(my_family.is_18(\"Alex\"))  # False\n"
   ]
  },
  {
   "cell_type": "markdown",
   "metadata": {},
   "source": [
    "*Exercise 4* the second version"
   ]
  },
  {
   "cell_type": "code",
   "execution_count": 29,
   "metadata": {},
   "outputs": [
    {
     "name": "stdout",
     "output_type": "stream",
     "text": [
      "Congratulations to the Smith family! New member born.\n",
      "Is Michael over 18? True\n",
      "Family Smith:\n",
      "Name: Michael, Age: 35, Gender: Male, Child: False\n",
      "Name: Sarah, Age: 32, Gender: Female, Child: False\n",
      "Name: John, Age: 0, Gender: Male, Child: True\n",
      "Congratulations to the Smith family! New member born.\n",
      "Family Smith:\n",
      "Name: Michael, Age: 35, Gender: Male, Child: False\n",
      "Name: Sarah, Age: 32, Gender: Female, Child: False\n",
      "Name: John, Age: 0, Gender: Male, Child: True\n",
      "Name: Emily, Age: 0, Gender: Female, Child: True\n"
     ]
    }
   ],
   "source": [
    "class Family:\n",
    "    def __init__(self, last_name, members):\n",
    "        self.last_name = last_name\n",
    "        self.members = members\n",
    "\n",
    "    def born(self, **kwargs):\n",
    "        self.members.append(kwargs)\n",
    "        print(f\"Congratulations to the {self.last_name} family! New member born.\")\n",
    "\n",
    "    def is_18(self, name):\n",
    "        for member in self.members:\n",
    "            if member['name'] == name:\n",
    "                return member['age'] >= 18\n",
    "        return False\n",
    "\n",
    "    def family_presentation(self):\n",
    "        print(f\"Family {self.last_name}:\")\n",
    "        for member in self.members:\n",
    "            print(\n",
    "                f\"Name: {member['name']}, Age: {member['age']}, \"\n",
    "                f\"Gender: {member['gender']}, Child: {member['is_child']}\")\n",
    "\n",
    "# Creating an instance of the Family class\n",
    "my_family = Family(last_name=\"Smith\", members=[\n",
    "    {'name':'Michael','age':35,'gender':'Male','is_child':False},\n",
    "    {'name':'Sarah','age':32,'gender':'Female','is_child':False}\n",
    "])\n",
    "\n",
    "# Calling the methods\n",
    "my_family.born(name='John', age=0, gender='Male', is_child=True)\n",
    "print(\"Is Michael over 18?\", my_family.is_18('Michael'))\n",
    "my_family.family_presentation()\n",
    "\n",
    "# born and one more presentation\n",
    "my_family.born(name='Emily', age=0, gender='Female', is_child=True)\n",
    "my_family.family_presentation()"
   ]
  },
  {
   "cell_type": "markdown",
   "metadata": {},
   "source": [
    "*Exercise 5*"
   ]
  },
  {
   "cell_type": "code",
   "execution_count": 30,
   "metadata": {},
   "outputs": [
    {
     "name": "stdout",
     "output_type": "stream",
     "text": [
      "* Here is our powerful family *\n",
      "Family Incredibles:\n",
      "Name: Michael, Age: 35, Gender: Male, Child: False\n",
      "Name: Sarah, Age: 32, Gender: Female, Child: False\n",
      "Congratulations to the Incredibles family! New member born.\n",
      "* Here is our powerful family *\n",
      "Family Incredibles:\n",
      "Name: Michael, Age: 35, Gender: Male, Child: False\n",
      "Name: Sarah, Age: 32, Gender: Female, Child: False\n",
      "Name: Jack, Age: 0, Gender: Male, Child: True\n",
      "Michael can use their power: fly\n"
     ]
    },
    {
     "ename": "ValueError",
     "evalue": "Jack is not over 18 years old",
     "output_type": "error",
     "traceback": [
      "\u001b[1;31m---------------------------------------------------------------------------\u001b[0m",
      "\u001b[1;31mValueError\u001b[0m                                Traceback (most recent call last)",
      "Cell \u001b[1;32mIn[30], line 32\u001b[0m\n\u001b[0;32m     30\u001b[0m incredibles_family\u001b[38;5;241m.\u001b[39mincredible_presentation()\n\u001b[0;32m     31\u001b[0m incredibles_family\u001b[38;5;241m.\u001b[39muse_power(\u001b[38;5;124m'\u001b[39m\u001b[38;5;124mMichael\u001b[39m\u001b[38;5;124m'\u001b[39m)\n\u001b[1;32m---> 32\u001b[0m \u001b[43mincredibles_family\u001b[49m\u001b[38;5;241;43m.\u001b[39;49m\u001b[43muse_power\u001b[49m\u001b[43m(\u001b[49m\u001b[38;5;124;43m'\u001b[39;49m\u001b[38;5;124;43mJack\u001b[39;49m\u001b[38;5;124;43m'\u001b[39;49m\u001b[43m)\u001b[49m\n",
      "Cell \u001b[1;32mIn[30], line 11\u001b[0m, in \u001b[0;36mTheIncredibles.use_power\u001b[1;34m(self, name)\u001b[0m\n\u001b[0;32m      9\u001b[0m     \u001b[38;5;28mprint\u001b[39m(\u001b[38;5;124mf\u001b[39m\u001b[38;5;124m\"\u001b[39m\u001b[38;5;132;01m{\u001b[39;00mmember[\u001b[38;5;124m'\u001b[39m\u001b[38;5;124mname\u001b[39m\u001b[38;5;124m'\u001b[39m]\u001b[38;5;132;01m}\u001b[39;00m\u001b[38;5;124m can use their power: \u001b[39m\u001b[38;5;132;01m{\u001b[39;00mmember[\u001b[38;5;124m'\u001b[39m\u001b[38;5;124mpower\u001b[39m\u001b[38;5;124m'\u001b[39m]\u001b[38;5;132;01m}\u001b[39;00m\u001b[38;5;124m\"\u001b[39m)\n\u001b[0;32m     10\u001b[0m \u001b[38;5;28;01melse\u001b[39;00m:\n\u001b[1;32m---> 11\u001b[0m     \u001b[38;5;28;01mraise\u001b[39;00m \u001b[38;5;167;01mValueError\u001b[39;00m(\u001b[38;5;124mf\u001b[39m\u001b[38;5;124m\"\u001b[39m\u001b[38;5;132;01m{\u001b[39;00mmember[\u001b[38;5;124m'\u001b[39m\u001b[38;5;124mname\u001b[39m\u001b[38;5;124m'\u001b[39m]\u001b[38;5;132;01m}\u001b[39;00m\u001b[38;5;124m is not over 18 years old\u001b[39m\u001b[38;5;124m\"\u001b[39m)\n",
      "\u001b[1;31mValueError\u001b[0m: Jack is not over 18 years old"
     ]
    }
   ],
   "source": [
    "class TheIncredibles(Family):\n",
    "    def __init__(self, last_name, members):\n",
    "        super().__init__(last_name, members)\n",
    "\n",
    "    def use_power(self, name):\n",
    "        for member in self.members:\n",
    "            if member['name'] == name:\n",
    "                if member['age'] >= 18:\n",
    "                    print(f\"{member['name']} can use their power: {member['power']}\")\n",
    "                else:\n",
    "                    raise ValueError(f\"{member['name']} is not over 18 years old\")\n",
    "\n",
    "    def incredible_presentation(self):\n",
    "        print(\"* Here is our powerful family *\")\n",
    "        super().family_presentation()\n",
    "\n",
    "# Creating an instance of the Incredibles class\n",
    "incredibles_family = TheIncredibles(last_name=\"Incredibles\", members=[\n",
    "    {'name':'Michael','age':35,'gender':'Male','is_child':False,'power': 'fly','incredible_name':'MikeFly'},\n",
    "    {'name':'Sarah','age':32,'gender':'Female','is_child':False,'power': 'read minds','incredible_name':'SuperWoman'}\n",
    "])\n",
    "\n",
    "# Calling the incredible_presentation method\n",
    "incredibles_family.incredible_presentation()\n",
    "\n",
    "# Using the born method to add Baby Jack with an unknown power\n",
    "incredibles_family.born(name='Jack', age=0, gender='Male', is_child=True, power='Unknown Power', incredible_name='BabyJack')\n",
    "\n",
    "# Calling the incredible_presentation method again\n",
    "incredibles_family.incredible_presentation()\n",
    "incredibles_family.use_power('Michael')\n",
    "incredibles_family.use_power('Jack')"
   ]
  }
 ],
 "metadata": {
  "kernelspec": {
   "display_name": "Python 3",
   "language": "python",
   "name": "python3"
  },
  "language_info": {
   "codemirror_mode": {
    "name": "ipython",
    "version": 3
   },
   "file_extension": ".py",
   "mimetype": "text/x-python",
   "name": "python",
   "nbconvert_exporter": "python",
   "pygments_lexer": "ipython3",
   "version": "3.11.9"
  }
 },
 "nbformat": 4,
 "nbformat_minor": 2
}
