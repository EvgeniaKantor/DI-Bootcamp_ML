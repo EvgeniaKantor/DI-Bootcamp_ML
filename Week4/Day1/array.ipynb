{
  "nbformat": 4,
  "nbformat_minor": 0,
  "metadata": {
    "colab": {
      "provenance": [],
      "authorship_tag": "ABX9TyMNbZnqW0t4r3nTwHmuP4BZ",
      "include_colab_link": true
    },
    "kernelspec": {
      "name": "python3",
      "display_name": "Python 3"
    },
    "language_info": {
      "name": "python"
    }
  },
  "cells": [
    {
      "cell_type": "markdown",
      "metadata": {
        "id": "view-in-github",
        "colab_type": "text"
      },
      "source": [
        "<a href=\"https://colab.research.google.com/github/EvgeniaKantor/DI-Bootcamp_ML/blob/main/array.ipynb\" target=\"_parent\"><img src=\"https://colab.research.google.com/assets/colab-badge.svg\" alt=\"Open In Colab\"/></a>"
      ]
    },
    {
      "cell_type": "code",
      "execution_count": 1,
      "metadata": {
        "id": "CDsoSStLyFJm"
      },
      "outputs": [],
      "source": [
        "import numpy as np"
      ]
    },
    {
      "cell_type": "code",
      "source": [
        "a1 = np.arange(10)\n",
        "a1"
      ],
      "metadata": {
        "colab": {
          "base_uri": "https://localhost:8080/"
        },
        "id": "PM1AjkxyyPVQ",
        "outputId": "11bc1471-07b5-47ce-c720-329a35103a48"
      },
      "execution_count": 6,
      "outputs": [
        {
          "output_type": "execute_result",
          "data": {
            "text/plain": [
              "array([0, 1, 2, 3, 4, 5, 6, 7, 8, 9])"
            ]
          },
          "metadata": {},
          "execution_count": 6
        }
      ]
    },
    {
      "cell_type": "code",
      "source": [
        "a1[5]"
      ],
      "metadata": {
        "colab": {
          "base_uri": "https://localhost:8080/"
        },
        "id": "OwspOP9f3IkH",
        "outputId": "fd0c8313-c0bf-4586-dff1-882490485ea2"
      },
      "execution_count": 8,
      "outputs": [
        {
          "output_type": "execute_result",
          "data": {
            "text/plain": [
              "5"
            ]
          },
          "metadata": {},
          "execution_count": 8
        }
      ]
    },
    {
      "cell_type": "code",
      "source": [
        "a1[3:8]"
      ],
      "metadata": {
        "colab": {
          "base_uri": "https://localhost:8080/"
        },
        "id": "pSnpgAJC35Mw",
        "outputId": "7c8f1577-3047-48e8-cac3-30a3379b8e02"
      },
      "execution_count": 9,
      "outputs": [
        {
          "output_type": "execute_result",
          "data": {
            "text/plain": [
              "array([3, 4, 5, 6, 7])"
            ]
          },
          "metadata": {},
          "execution_count": 9
        }
      ]
    },
    {
      "cell_type": "code",
      "source": [
        "# Create an array of 6 random integers between 10 and 50. Print the elements that are greater than 30.\n",
        "a2 = np.random.randint(10, 50, 6)\n",
        "a2"
      ],
      "metadata": {
        "colab": {
          "base_uri": "https://localhost:8080/"
        },
        "id": "OCZG3mlq4CrO",
        "outputId": "7aa9081e-1ff3-4e85-b32a-f04feaceb287"
      },
      "execution_count": 12,
      "outputs": [
        {
          "output_type": "execute_result",
          "data": {
            "text/plain": [
              "array([36, 35, 45, 41, 20, 15])"
            ]
          },
          "metadata": {},
          "execution_count": 12
        }
      ]
    },
    {
      "cell_type": "code",
      "source": [
        "a2[a2 > 30]"
      ],
      "metadata": {
        "colab": {
          "base_uri": "https://localhost:8080/"
        },
        "id": "6Cl8T3tv4muM",
        "outputId": "a67dea77-67c6-4748-e41f-f9a61fc6e26a"
      },
      "execution_count": 13,
      "outputs": [
        {
          "output_type": "execute_result",
          "data": {
            "text/plain": [
              "array([36, 35, 45, 41])"
            ]
          },
          "metadata": {},
          "execution_count": 13
        }
      ]
    },
    {
      "cell_type": "code",
      "source": [
        "a3 = np.arange(1, 11)\n",
        "a3"
      ],
      "metadata": {
        "colab": {
          "base_uri": "https://localhost:8080/"
        },
        "id": "1t4gJ9fZ6Qyo",
        "outputId": "1b0bfe57-9b7a-4b59-bb43-cb1c7a07a9d4"
      },
      "execution_count": 15,
      "outputs": [
        {
          "output_type": "execute_result",
          "data": {
            "text/plain": [
              "array([ 1,  2,  3,  4,  5,  6,  7,  8,  9, 10])"
            ]
          },
          "metadata": {},
          "execution_count": 15
        }
      ]
    },
    {
      "cell_type": "code",
      "source": [
        "a3[5] = 50\n",
        "a3"
      ],
      "metadata": {
        "colab": {
          "base_uri": "https://localhost:8080/"
        },
        "id": "xg2paWGh6YlH",
        "outputId": "66d24b0e-55a5-438f-b7cf-79f8e79e521c"
      },
      "execution_count": 16,
      "outputs": [
        {
          "output_type": "execute_result",
          "data": {
            "text/plain": [
              "array([ 1,  2,  3,  4,  5, 50,  7,  8,  9, 10])"
            ]
          },
          "metadata": {},
          "execution_count": 16
        }
      ]
    },
    {
      "cell_type": "code",
      "source": [
        "a3[3:7] = -a3[3:7]\n",
        "a3"
      ],
      "metadata": {
        "colab": {
          "base_uri": "https://localhost:8080/"
        },
        "id": "OtpBrdPY6ftZ",
        "outputId": "80aa5bd8-9ae5-4141-9d4d-f0597d545ddf"
      },
      "execution_count": 18,
      "outputs": [
        {
          "output_type": "execute_result",
          "data": {
            "text/plain": [
              "array([  1,   2,   3,  -4,  -5, -50,  -7,   8,   9,  10])"
            ]
          },
          "metadata": {},
          "execution_count": 18
        }
      ]
    },
    {
      "cell_type": "code",
      "source": [
        "a4 = np.random.randint(1,100,20)\n",
        "a4"
      ],
      "metadata": {
        "colab": {
          "base_uri": "https://localhost:8080/"
        },
        "id": "PRaLAIdg7PDg",
        "outputId": "9a694e5e-1b38-4636-ec64-d1edf65fa70c"
      },
      "execution_count": 20,
      "outputs": [
        {
          "output_type": "execute_result",
          "data": {
            "text/plain": [
              "array([61,  2, 36, 87, 46, 86, 57, 45, 85, 45, 12, 23, 46, 34, 16, 72, 49,\n",
              "       48, 44,  7])"
            ]
          },
          "metadata": {},
          "execution_count": 20
        }
      ]
    },
    {
      "cell_type": "code",
      "source": [
        "a4[a4 > 50] = -1\n",
        "a4"
      ],
      "metadata": {
        "colab": {
          "base_uri": "https://localhost:8080/"
        },
        "id": "uVjtV4vU7lNh",
        "outputId": "1b0bf612-1ef8-43a2-a6b1-7744a35aacb3"
      },
      "execution_count": 23,
      "outputs": [
        {
          "output_type": "execute_result",
          "data": {
            "text/plain": [
              "array([-1,  2, 36, -1, 46, -1, -1, 45, -1, 45, 12, 23, 46, 34, 16, -1, 49,\n",
              "       48, 44,  7])"
            ]
          },
          "metadata": {},
          "execution_count": 23
        }
      ]
    },
    {
      "cell_type": "code",
      "source": [
        "a5 = np.random.randint(1, 10, (5,5))\n",
        "a5"
      ],
      "metadata": {
        "colab": {
          "base_uri": "https://localhost:8080/"
        },
        "id": "uMQ7aXiN-ltw",
        "outputId": "561eed4e-62fd-4e6e-96c6-3efb6bc7946e"
      },
      "execution_count": 33,
      "outputs": [
        {
          "output_type": "execute_result",
          "data": {
            "text/plain": [
              "array([[3, 6, 5, 2, 9],\n",
              "       [2, 7, 4, 8, 4],\n",
              "       [7, 5, 8, 2, 4],\n",
              "       [3, 9, 6, 2, 6],\n",
              "       [9, 2, 7, 6, 7]])"
            ]
          },
          "metadata": {},
          "execution_count": 33
        }
      ]
    },
    {
      "cell_type": "code",
      "source": [
        "# Given a 2D array of shape (5, 5), modify the elements in the diagonal to be twice their original value.\n",
        "a5 = np.arange(1, 26).reshape((5,5))\n",
        "a5"
      ],
      "metadata": {
        "colab": {
          "base_uri": "https://localhost:8080/"
        },
        "id": "4BHNr-oS8ElT",
        "outputId": "4457932f-bfa3-4547-ea64-ca98d3c8dc0e"
      },
      "execution_count": 28,
      "outputs": [
        {
          "output_type": "execute_result",
          "data": {
            "text/plain": [
              "array([[ 1,  2,  3,  4,  5],\n",
              "       [ 6,  7,  8,  9, 10],\n",
              "       [11, 12, 13, 14, 15],\n",
              "       [16, 17, 18, 19, 20],\n",
              "       [21, 22, 23, 24, 25]])"
            ]
          },
          "metadata": {},
          "execution_count": 28
        }
      ]
    },
    {
      "cell_type": "code",
      "source": [
        "for i in range(5):\n",
        "  for j in range(5):\n",
        "    if i == j:\n",
        "      a5[i, j] *= 2\n",
        "print(a5)"
      ],
      "metadata": {
        "colab": {
          "base_uri": "https://localhost:8080/"
        },
        "id": "tPQImptT-2x3",
        "outputId": "3425cb17-1be3-4653-fc07-9d43dfa66e37"
      },
      "execution_count": 32,
      "outputs": [
        {
          "output_type": "stream",
          "name": "stdout",
          "text": [
            "[[ 2  4  6  3  6]\n",
            " [ 4  8  4  6  3]\n",
            " [ 9  7 10  6  8]\n",
            " [ 4  3  3  2  6]\n",
            " [ 2  4  4  4  6]]\n"
          ]
        }
      ]
    },
    {
      "cell_type": "code",
      "source": [
        "for i in range(a5.shape[0]):\n",
        "    a5[i, i] = 2 * a5[i, i]\n",
        "print(a5)"
      ],
      "metadata": {
        "colab": {
          "base_uri": "https://localhost:8080/"
        },
        "id": "xd_ui4UT8qjq",
        "outputId": "8edc59cc-0bf4-4470-f38e-69d0254159e3"
      },
      "execution_count": 29,
      "outputs": [
        {
          "output_type": "stream",
          "name": "stdout",
          "text": [
            "[[ 2  2  3  4  5]\n",
            " [ 6 14  8  9 10]\n",
            " [11 12 26 14 15]\n",
            " [16 17 18 38 20]\n",
            " [21 22 23 24 50]]\n"
          ]
        }
      ]
    },
    {
      "cell_type": "code",
      "source": [
        "a6 = np.arange(1, 11)\n",
        "ar_slided = a6[2:5]\n",
        "ar_slided[0]= 99\n",
        "a6"
      ],
      "metadata": {
        "colab": {
          "base_uri": "https://localhost:8080/"
        },
        "id": "P1NR0vTY9k0D",
        "outputId": "908e3d14-b98e-499c-d85c-0b69222e602d"
      },
      "execution_count": 36,
      "outputs": [
        {
          "output_type": "execute_result",
          "data": {
            "text/plain": [
              "array([ 1,  2, 99,  4,  5,  6,  7,  8,  9, 10])"
            ]
          },
          "metadata": {},
          "execution_count": 36
        }
      ]
    },
    {
      "cell_type": "code",
      "source": [
        "a7 = np.random.randint(1, 10, (5,5))\n",
        "a7"
      ],
      "metadata": {
        "colab": {
          "base_uri": "https://localhost:8080/"
        },
        "id": "SIfg-UnDBHR6",
        "outputId": "61131cae-a769-431f-87e5-fc072dba9bf9"
      },
      "execution_count": 37,
      "outputs": [
        {
          "output_type": "execute_result",
          "data": {
            "text/plain": [
              "array([[8, 6, 6, 1, 4],\n",
              "       [1, 6, 6, 4, 6],\n",
              "       [2, 4, 6, 9, 7],\n",
              "       [2, 6, 7, 8, 7],\n",
              "       [1, 5, 9, 9, 4]])"
            ]
          },
          "metadata": {},
          "execution_count": 37
        }
      ]
    },
    {
      "cell_type": "code",
      "source": [
        "for i in range(5):\n",
        "  j = 4-i\n",
        "  a7[i, j] = 0\n",
        "print(a7)"
      ],
      "metadata": {
        "colab": {
          "base_uri": "https://localhost:8080/"
        },
        "id": "9TFWcLPWBM7J",
        "outputId": "52e8e4dd-39a8-4c8e-a715-46c79f2e73c6"
      },
      "execution_count": 38,
      "outputs": [
        {
          "output_type": "stream",
          "name": "stdout",
          "text": [
            "[[8 6 6 1 0]\n",
            " [1 6 6 0 6]\n",
            " [2 4 0 9 7]\n",
            " [2 0 7 8 7]\n",
            " [0 5 9 9 4]]\n"
          ]
        }
      ]
    },
    {
      "cell_type": "code",
      "source": [
        "a8 = np.random.randint(1, 12, 12)\n",
        "a9 = a8.reshape(4,3)\n",
        "a10 = a9.reshape(2,6)\n",
        "a10"
      ],
      "metadata": {
        "colab": {
          "base_uri": "https://localhost:8080/"
        },
        "id": "EH6N5uihNICU",
        "outputId": "420803ae-4696-43eb-a61a-774082ed4628"
      },
      "execution_count": 42,
      "outputs": [
        {
          "output_type": "execute_result",
          "data": {
            "text/plain": [
              "array([[10, 10, 10,  5, 10,  6],\n",
              "       [ 5,  7,  6,  2, 11,  2]])"
            ]
          },
          "metadata": {},
          "execution_count": 42
        }
      ]
    },
    {
      "cell_type": "code",
      "source": [
        "# Transpose the 2x6 matrix you created in the previous step.\n",
        "a10.T"
      ],
      "metadata": {
        "colab": {
          "base_uri": "https://localhost:8080/"
        },
        "id": "Hiwb-fHiN1v5",
        "outputId": "3e2e5369-ca19-4d33-a4be-71da119c368e"
      },
      "execution_count": 43,
      "outputs": [
        {
          "output_type": "execute_result",
          "data": {
            "text/plain": [
              "array([[10,  5],\n",
              "       [10,  7],\n",
              "       [10,  6],\n",
              "       [ 5,  2],\n",
              "       [10, 11],\n",
              "       [ 6,  2]])"
            ]
          },
          "metadata": {},
          "execution_count": 43
        }
      ]
    },
    {
      "cell_type": "code",
      "source": [
        "# Create a 3x4 matrix, transpose it, and then reshape the transposed matrix to a 1D array.\n",
        "a11 = np.arange(1, 13).reshape(3,4)\n",
        "a11.T\n",
        "a11.reshape(1,12)"
      ],
      "metadata": {
        "colab": {
          "base_uri": "https://localhost:8080/"
        },
        "id": "oz7nhPjQN7Rr",
        "outputId": "b80cb84e-67eb-4a88-ec91-a64acd6eaa34"
      },
      "execution_count": 47,
      "outputs": [
        {
          "output_type": "execute_result",
          "data": {
            "text/plain": [
              "array([[ 1,  2,  3,  4,  5,  6,  7,  8,  9, 10, 11, 12]])"
            ]
          },
          "metadata": {},
          "execution_count": 47
        }
      ]
    }
  ]
}