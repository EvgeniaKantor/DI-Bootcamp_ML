{
 "cells": [
  {
   "cell_type": "code",
   "execution_count": 9,
   "metadata": {},
   "outputs": [
    {
     "name": "stdout",
     "output_type": "stream",
     "text": [
      "{1, 5, 7, 8, 10, 21}\n",
      "{1, 5, 7, 8, 10}\n",
      "{1, 2, 3, 4, 5, 7, 8, 10}\n"
     ]
    }
   ],
   "source": [
    "# Exercise 1\n",
    "# Creae a set called my_fav_numbers with all your favorites numbers\n",
    "my_fav_numbers = {1, 5, 7, 21}\n",
    "\n",
    "# Add two new numbers to the set\n",
    "my_fav_numbers.add(8)\n",
    "my_fav_numbers.add(10)\n",
    "print(my_fav_numbers)\n",
    "\n",
    "# Remove the last number\n",
    "# my_fav_numbers.pop() #it will remove one number not necessarily the last\n",
    "# print(my_fav_numbers)\n",
    "my_fav_numbers.remove(21)\n",
    "print(my_fav_numbers)\n",
    "\n",
    "# Create a set called friend_fav_numbers with your friend’s favorites numbers\n",
    "friend_fav_numbers = {1, 2, 3, 4, 5}\n",
    "\n",
    "# Concatenate my_fav_numbers and friend_fav_numbers to a new variable called our_fav_numbers\n",
    "our_fav_numbers = my_fav_numbers.union(friend_fav_numbers)\n",
    "print(our_fav_numbers)"
   ]
  },
  {
   "cell_type": "code",
   "execution_count": 10,
   "metadata": {},
   "outputs": [
    {
     "name": "stdout",
     "output_type": "stream",
     "text": [
      "(1, 2, 3, 4, 5)\n"
     ]
    }
   ],
   "source": [
    "# Exercise 2\n",
    "# Given a tuple which value is integers, is it possible to add more integers to the tuple?\n",
    "\n",
    "# Answer:\n",
    "# Tuples are immutable, meaning you cannot add, remove, or change elements after creation. \n",
    "# However you can create a new one by adding elements\n",
    "\n",
    "my_tuple = (1, 2, 3)\n",
    "my_tuple = my_tuple + (4, 5) # Concatenation\n",
    "print(my_tuple)"
   ]
  },
  {
   "cell_type": "code",
   "execution_count": 19,
   "metadata": {},
   "outputs": [
    {
     "data": {
      "text/plain": [
       "[]"
      ]
     },
     "execution_count": 19,
     "metadata": {},
     "output_type": "execute_result"
    }
   ],
   "source": [
    "# EExercise 3\n",
    "basket = [\"Banana\", \"Apples\", \"Oranges\", \"Blueberries\"]\n",
    "\n",
    "# Remove “Banana” from the list\n",
    "basket.remove(\"Banana\")\n",
    "\n",
    "# Remove “Blueberries” from the list\n",
    "basket.pop() # If we now that it is the last ellement\n",
    "# basket.remove(\"Blueberries\")\n",
    "\n",
    "# Add “Kiwi” to the end of the list\n",
    "basket.append('Kiwi')\n",
    "\n",
    "# Add “Apples” to the beginning of the list\n",
    "basket.insert(0, 'Apples')\n",
    "\n",
    "# Count how many apples are in the basket\n",
    "basket.count('Apples')\n",
    "\n",
    "# Empty the basket\n",
    "basket.clear()\n",
    "basket"
   ]
  },
  {
   "cell_type": "code",
   "execution_count": 27,
   "metadata": {},
   "outputs": [
    {
     "name": "stdout",
     "output_type": "stream",
     "text": [
      "1\n",
      "2\n",
      "3\n",
      "4\n",
      "5\n",
      "6\n",
      "7\n",
      "8\n",
      "9\n",
      "10\n",
      "11\n",
      "12\n",
      "13\n",
      "14\n",
      "15\n",
      "16\n",
      "17\n",
      "18\n",
      "19\n",
      "20\n",
      "2\n",
      "4\n",
      "6\n",
      "8\n",
      "10\n",
      "12\n",
      "14\n",
      "16\n",
      "18\n",
      "20\n"
     ]
    }
   ],
   "source": [
    "# Exercise 5\n",
    "# Use a for loop to print all numbers from 1 to 20, inclusive\n",
    "for i in range(1,21):\n",
    "    print(i)\n",
    "\n",
    "#Using a for loop, that loops from 1 to 20(inclusive), print out every element which has an even index\n",
    "for i in range(2, 21, 2):\n",
    "    print(i)"
   ]
  },
  {
   "cell_type": "code",
   "execution_count": 31,
   "metadata": {},
   "outputs": [
    {
     "name": "stdout",
     "output_type": "stream",
     "text": [
      "We have the same name!\n"
     ]
    }
   ],
   "source": [
    "# Exercise 6\n",
    "# Write a while loop that will continuously ask the user for their name, unless the input is equal to your name\n",
    "while True:\n",
    "    user_name = input('What is your name?')\n",
    "    if user_name.lower() == 'evgenia':\n",
    "        print('We have the same name!')\n",
    "        break\n",
    "    print('Next!')"
   ]
  },
  {
   "cell_type": "code",
   "execution_count": 39,
   "metadata": {},
   "outputs": [
    {
     "name": "stdout",
     "output_type": "stream",
     "text": [
      "You chose one of your favorite fruits! Enjoy!\n"
     ]
    }
   ],
   "source": [
    "# Exercise 7\n",
    "# Ask the user to input their favorite fruit(s) (one or several fruits).\n",
    "# Ask the user to separate the fruits with a single space, eg. \"apple mango cherry\"\n",
    "fav_fruits = input('What are your favorite fruits? Please separate the fruits with a single space, eg. \"apple mango cherry\"')\n",
    "\n",
    "# Store the favorite fruit(s) in a list (convert the string of words into a list of words)\n",
    "fav_fruits.strip().lower()\n",
    "fruit_list = fav_fruits.split()\n",
    "fruit_list\n",
    "\n",
    "# Now that we have a list of fruits, ask the user to input a name of any fruit.\n",
    "# If the user’s input is in the favorite fruits list, print “You chose one of your favorite fruits! Enjoy!”.\n",
    "# If the user’s input is NOT in the list, print, “You chose a new fruit. I hope you enjoy”.\n",
    "\n",
    "while True:\n",
    "    new_fruit = input('Input a name of any fruit').lower()\n",
    "    if new_fruit in fruit_list:\n",
    "        print('You chose one of your favorite fruits! Enjoy!')\n",
    "    else:\n",
    "        print('You chose a new fruit. I hope you enjoy')\n",
    "    break"
   ]
  },
  {
   "cell_type": "code",
   "execution_count": null,
   "metadata": {},
   "outputs": [
    {
     "name": "stdout",
     "output_type": "stream",
     "text": [
      "We add tomato, cheese to you pizza. Your total price is 15.0\n"
     ]
    }
   ],
   "source": [
    "# Exercise 8\n",
    "# Write a loop that asks a user to enter a series of pizza toppings, when the user inputs ‘quit’ stop asking for toppings\n",
    "toppings = []\n",
    "total_price = 10\n",
    "\n",
    "while True:\n",
    "    topping = input(\"Enter toppings one by one. When you finished please type 'quit': \").lower()\n",
    "    if topping == 'quit':\n",
    "        break\n",
    "    toppings.append(topping)\n",
    "    total_price += 2.5\n",
    "\n",
    "# As they enter each topping, print a message saying you’ll add that topping to their pizza\n",
    "print(f\"We added {', '.join(toppings)} to you pizza. Your total price is {total_price}\")\n",
    "\n",
    "#  Upon exiting the loop print all the toppings on the pizza pie and what the total price is (10 + 2.5 for each topping)     "
   ]
  },
  {
   "cell_type": "code",
   "execution_count": null,
   "metadata": {},
   "outputs": [
    {
     "name": "stdout",
     "output_type": "stream",
     "text": [
      "Your ticket costs free\n",
      "Your ticket costs 10\n",
      "Your ticket costs 15\n",
      "Your ticket costs 15\n",
      "Your ticket costs 15\n",
      "Your ticket costs 15\n",
      "Your ticket costs 15\n",
      "Total cost for the family's tickets: $ 85\n",
      "The following teenagers are allowed to watch the movie: Tom ,Alice ,Yan\n"
     ]
    }
   ],
   "source": [
    "# Exercise 9\n",
    "# A movie theater charges different ticket prices depending on a person’s age.\n",
    "# if a person is under the age of 3, the ticket is free.\n",
    "# if they are between 3 and 12, the ticket is $10.\n",
    "# if they are over the age of 12, the ticket is $15.\n",
    "\n",
    "# Ask a family the age of each person who wants a ticket.\n",
    "\n",
    "# Store the total cost of all the family’s tickets and print it out.\n",
    "\n",
    "little_kids = range(3)\n",
    "kids = range(3,13)\n",
    "adults = range(13,120)\n",
    "total_cost = 0\n",
    "\n",
    "while True:\n",
    "    age = input(\"What is your age? (type 'done' to finish)\")\n",
    "    if age.lower() == 'done':\n",
    "        break\n",
    "    if int(age) in little_kids:\n",
    "        print(\"Your ticket costs free\")\n",
    "    elif int(age) in kids:\n",
    "        print(\"Your ticket costs 10\")\n",
    "        total_cost += 10\n",
    "    elif int(age) in adults:\n",
    "        print(\"Your ticket costs 15\")\n",
    "        total_cost += 15\n",
    "print(f\"Total cost for the family's tickets: $ {total_cost}\")\n",
    "\n",
    "\n",
    "# A group of teenagers are coming to your movie theater and want to watch a movie that is restricted for people between the ages of 16 and 21.\n",
    "# Given a list of names, write a program that asks teenager for their age, if they are not permitted to watch the movie, remove them from the list.\n",
    "# At the end, print the final list\n",
    "names = [\"Andru\", \"Tom\", \"Alice\", \"Yan\"]\n",
    "new_list = []\n",
    "film_for = range (16,21)\n",
    "for name in names:\n",
    "     age = int(input(f\"Please enter {name}'s age: \"))\n",
    "     if age in film_for:\n",
    "        new_list.append(name)\n",
    "print(f\"The following teenagers are allowed to watch the movie: {', '.join(new_list)}\")"
   ]
  },
  {
   "cell_type": "code",
   "execution_count": 8,
   "metadata": {},
   "outputs": [
    {
     "name": "stdout",
     "output_type": "stream",
     "text": [
      "['Tuna sandwich', 'Avocado sandwich', 'Egg sandwich', 'Chicken sandwich']\n",
      "I made your Tuna sandwich\n",
      "I made your Avocado sandwich\n",
      "I made your Egg sandwich\n",
      "I made your Chicken sandwich\n"
     ]
    }
   ],
   "source": [
    "# Exercise 10\n",
    "sandwich_orders = [\"Tuna sandwich\", \"Pastrami sandwich\", \"Avocado sandwich\", \"Pastrami sandwich\", \"Egg sandwich\", \"Chicken sandwich\", \"Pastrami sandwich\"]\n",
    "# The deli has run out of pastrami, use a while loop to remove all occurrences of “Pastrami sandwich” from sandwich_orders\n",
    "while \"Pastrami sandwich\" in sandwich_orders:\n",
    "    sandwich_orders.remove(\"Pastrami sandwich\")\n",
    "print(sandwich_orders)\n",
    "\n",
    "# Create an empty list called finished_sandwiches.\n",
    "# One by one, remove each sandwich from the sandwich_orders while adding them to the finished_sandwiches list.\n",
    "# After all the sandwiches have been made, print a message\n",
    "finished_sandwiches = []\n",
    "while sandwich_orders:\n",
    "    sandwich = sandwich_orders.pop(0)  # Remove the first sandwich in the list\n",
    "    finished_sandwiches.append(sandwich)\n",
    "    print(\"I made your\", sandwich)\n"
   ]
  }
 ],
 "metadata": {
  "kernelspec": {
   "display_name": "Python 3",
   "language": "python",
   "name": "python3"
  },
  "language_info": {
   "codemirror_mode": {
    "name": "ipython",
    "version": 3
   },
   "file_extension": ".py",
   "mimetype": "text/x-python",
   "name": "python",
   "nbconvert_exporter": "python",
   "pygments_lexer": "ipython3",
   "version": "3.11.9"
  }
 },
 "nbformat": 4,
 "nbformat_minor": 2
}
