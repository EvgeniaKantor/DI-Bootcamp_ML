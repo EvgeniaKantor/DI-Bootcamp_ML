{
 "cells": [
  {
   "cell_type": "code",
   "execution_count": 1,
   "metadata": {},
   "outputs": [
    {
     "name": "stdout",
     "output_type": "stream",
     "text": [
      "I'm learning GenAI and ML\n"
     ]
    }
   ],
   "source": [
    "# Exercise 1\n",
    "# Write a function called display_message() that prints one sentence telling everyone \n",
    "# what you are learning in this course.\n",
    "\n",
    "def display_message():\n",
    "    print(\"I'm learning GenAI and ML\")\n",
    "\n",
    "display_message()"
   ]
  },
  {
   "cell_type": "code",
   "execution_count": 2,
   "metadata": {},
   "outputs": [
    {
     "name": "stdout",
     "output_type": "stream",
     "text": [
      "One of my favorite books is Alice in Wonderland\n"
     ]
    }
   ],
   "source": [
    "# Exercise 2\n",
    "# Write a function called favorite_book() that accepts one parameter called title.\n",
    "# The function should print a message, such as \"One of my favorite books is <title>\"\n",
    "def favorite_book(title):\n",
    "    print(f'One of my favorite books is {title}')\n",
    "\n",
    "favorite_book(\"Alice in Wonderland\")"
   ]
  },
  {
   "cell_type": "code",
   "execution_count": 3,
   "metadata": {},
   "outputs": [
    {
     "name": "stdout",
     "output_type": "stream",
     "text": [
      "Reykjavik is in Iceland\n"
     ]
    }
   ],
   "source": [
    "# Exercise 3\n",
    "# Write a function called describe_city() that accepts the name of a city and its country as parameters\n",
    "def describe_city(city = 'Reykjavik', country = 'Iceland'):\n",
    "    print(f\"{city} is in {country}\")\n",
    "describe_city()"
   ]
  },
  {
   "cell_type": "code",
   "execution_count": 12,
   "metadata": {},
   "outputs": [
    {
     "name": "stdout",
     "output_type": "stream",
     "text": [
      "Fail! The first number is 38 and the second is 46\n",
      "Fail! Your number: 97, Random number: 44.\n"
     ]
    }
   ],
   "source": [
    "# Exercise 4\n",
    "# Create a function that accepts a number between 1 and 100 \n",
    "# and generates another number randomly between 1 and 100. Use the random module.\n",
    "import random\n",
    "\n",
    "def gen_number():\n",
    "    number1 = random.choice(range(1, 101))\n",
    "    number2 = random.choice(range(1, 101))\n",
    "    if number1 == number2:\n",
    "        print(\"Congrats! The same number\")\n",
    "    else:\n",
    "        print(f\"Fail! The first number is {number1} and the second is {number2}\")\n",
    "\n",
    "gen_number()\n",
    "###############################################################\n",
    "def check_random_number(user_number):\n",
    "    if not (1 <= user_number <= 100):\n",
    "        print(\"Error: Please enter a number between 1 and 100.\")\n",
    "        return\n",
    "    \n",
    "    random_number = random.randint(1, 100)\n",
    "    \n",
    "    if user_number == random_number:\n",
    "        print(f\"Success! Both numbers are {user_number}.\")\n",
    "    else:\n",
    "        print(f\"Fail! Your number: {user_number}, Random number: {random_number}.\")\n",
    "\n",
    "# Example usage\n",
    "user_input = int(input(\"Enter a number between 1 and 100: \"))\n",
    "check_random_number(user_input)\n"
   ]
  },
  {
   "cell_type": "code",
   "execution_count": 18,
   "metadata": {},
   "outputs": [
    {
     "name": "stdout",
     "output_type": "stream",
     "text": [
      "The size of the shirt is L and the text is I love Python\n",
      "The size of the shirt is M and the text is I love Python\n",
      "The size of the shirt is S and the text is Ckrya\n",
      "The size of the shirt is XXL and the text is Hello, World!\n"
     ]
    }
   ],
   "source": [
    "# Exercise 5\n",
    "# Write a function called make_shirt() that accepts a size and the text of \n",
    "# a message that should be printed on the shirt.\n",
    "\n",
    "# The function should print a sentence summarizing the size of the shirt and the message printed on it, \n",
    "# such as \"The size of the shirt is <size> and the text is <text>\"\n",
    "\n",
    "# Modify the make_shirt() function so that shirts are large by default \n",
    "# with a message that reads “I love Python” by default.\n",
    "def make_shirt(size = 'L', text = \"I love Python\"):\n",
    "    print(f\"The size of the shirt is {size} and the text is {text}\")\n",
    "make_shirt()\n",
    "make_shirt('M')\n",
    "make_shirt('S', 'Ckrya')\n",
    "make_shirt(size='XXL', text='Hello, World!')"
   ]
  },
  {
   "cell_type": "code",
   "execution_count": 26,
   "metadata": {},
   "outputs": [
    {
     "name": "stdout",
     "output_type": "stream",
     "text": [
      "Harry Houdini\n",
      "David Blaine\n",
      "Criss Angel\n",
      "Harry Houdini the Great\n",
      "David Blaine the Great\n",
      "Criss Angel the Great\n",
      "['Harry Houdini the Great', 'David Blaine the Great', 'Criss Angel the Great']\n",
      "Harry Houdini the Great\n",
      "David Blaine the Great\n",
      "Criss Angel the Great\n"
     ]
    }
   ],
   "source": [
    "# Exercise 6\n",
    "magician_names = ['Harry Houdini', 'David Blaine', 'Criss Angel']\n",
    "# Create a function called show_magicians(), which prints the name of each magician in the list\n",
    "\n",
    "def show_magicians():\n",
    "    for name in magician_names:\n",
    "        print(name)\n",
    "show_magicians()\n",
    "\n",
    "# Write a function called make_great() that modifies the original list \n",
    "# of magicians by adding the phrase \"the Great\" to each magician’s name.\n",
    "def make_great():\n",
    "    for i, name in enumerate(magician_names):\n",
    "        magician_names[i] = f'{name} the Great'\n",
    "        print(magician_names[i])\n",
    "\n",
    "make_great()\n",
    "print(magician_names)\n",
    "show_magicians()"
   ]
  },
  {
   "cell_type": "code",
   "execution_count": 36,
   "metadata": {},
   "outputs": [
    {
     "name": "stdout",
     "output_type": "stream",
     "text": [
      "Quite chilly! Don’t forget your coat\n",
      "The temperature right now is 10.00 degrees Celsius\n"
     ]
    }
   ],
   "source": [
    "# Exercise 7\n",
    "# Create a function called get_random_temp().\n",
    "# This function should return an integer between -10 and 40 degrees (Celsius), selected at random.\n",
    "# Test your function to make sure it generates expected results.\n",
    "\n",
    "# def get_random_temp():\n",
    "#     temper = random.randint(-10, 40)\n",
    "\n",
    "#     return temper\n",
    "\n",
    "# Change the get_random_temp() function:\n",
    "# Add a parameter to the function, named ‘season’.\n",
    "# Inside the function, instead of simply generating a random number between -10 and 40, set lower and upper limits based on the season, eg. if season is ‘winter’, temperatures should only fall between -10 and 16.\n",
    "# Now that we’ve changed get_random_temp(), let’s change the main() function:\n",
    "# Before calling get_random_temp(), we will need to decide on a season, so that we can call the function correctly. Ask the user to type in a season - ‘summer’, ‘autumn’ (you can use ‘fall’ if you prefer), ‘winter’, or ‘spring’.\n",
    "# Use the season as an argument when calling get_random_temp().\n",
    "def get_random_temp(season):\n",
    "    if season == 'winter':\n",
    "        temper = random.randint(-10, 16)\n",
    "    elif season == 'spring':\n",
    "        temper = random.randint(16, 23)\n",
    "    elif season == 'autumn':\n",
    "        temper = random.randint(16, 23)\n",
    "    elif season == 'summer':\n",
    "        temper = random.randint(23, 40)\n",
    "    else:\n",
    "        return \"Invalid season! Please enter 'winter', 'spring', 'autumn', or 'summer'.\"\n",
    "    return temper\n",
    "\n",
    "# Create a function called main().\n",
    "# Inside this function, call get_random_temp() to get a temperature, and store its value in a variable.\n",
    "# Inform the user of the temperature in a friendly message, eg. “The temperature right now is 32 degrees Celsius.”\n",
    "# def main():\n",
    "#     temper = get_random_temp()\n",
    "#     if temper <= 0:\n",
    "#         print(\"Brr, that's freezing! Wear some extra layers today\")\n",
    "#     elif 0 < temper <= 16:\n",
    "#         print(\"Quite chilly! Don’t forget your coat\")\n",
    "#     elif 16 < temper <= 23:\n",
    "#         print(\"Nice!\")\n",
    "#     elif 23 < temper <= 32:\n",
    "#         print(\"Perfect!\")\n",
    "#     else:\n",
    "#         print(\"Hot!\")\n",
    "#     print(f\"The temperature right now is {temper} degrees Celsius\")\n",
    "\n",
    "# main()\n",
    "\n",
    "# def main():\n",
    "#     season = input(\"Please enter a season (winter, spring, summer, autumn): \").lower()\n",
    "#     temper = get_random_temp(season)\n",
    "#     if temper <= 0:\n",
    "#         print(\"Brr, that's freezing! Wear some extra layers today\")\n",
    "#     elif 0 < temper <= 16:\n",
    "#         print(\"Quite chilly! Don’t forget your coat\")\n",
    "#     elif 16 < temper <= 23:\n",
    "#         print(\"Nice!\")\n",
    "#     elif 23 < temper <= 32:\n",
    "#         print(\"Perfect!\")\n",
    "#     else:\n",
    "#         print(\"Hot!\")\n",
    "#     print(f\"The temperature right now is {temper} degrees Celsius\")\n",
    "\n",
    "# main()\n",
    "\n",
    "def main():\n",
    "    month = int(input(\"Please enter a number of month (from 1 to 12): \"))\n",
    "    if month in [12, 1, 2]:\n",
    "        season = 'winter'\n",
    "    elif month in [3, 4, 5]:\n",
    "        season = 'spring'\n",
    "    elif month in [6, 7, 8]:\n",
    "        season = 'summer'\n",
    "    elif month in [9, 10, 11]:\n",
    "        season = 'autumn'\n",
    "    else:\n",
    "        print(\"Invalid month! Please enter a number between 1 and 12.\")\n",
    "        return\n",
    "    temper = get_random_temp(season)\n",
    "    \n",
    "    if temper <= 0:\n",
    "        print(\"Brr, that's freezing! Wear some extra layers today\")\n",
    "    elif 0 < temper <= 16:\n",
    "        print(\"Quite chilly! Don’t forget your coat\")\n",
    "    elif 16 < temper <= 23:\n",
    "        print(\"Nice!\")\n",
    "    elif 23 < temper <= 32:\n",
    "        print(\"Perfect!\")\n",
    "    else:\n",
    "        print(\"Hot!\")\n",
    "    print(f\"The temperature right now is {temper:.2f} degrees Celsius\")\n",
    "\n",
    "main()"
   ]
  },
  {
   "cell_type": "code",
   "execution_count": 43,
   "metadata": {},
   "outputs": [
    {
     "name": "stdout",
     "output_type": "stream",
     "text": [
      "\n",
      "Correct answers: 0\n",
      "Wrong answers: 6\n",
      "\n",
      "Incorrect answers:\n",
      "Question: What is Baby Yoda's real name? - Your answer: kjfsdkfjlwkjf - Correct answer: Grogu\n",
      "Question: Where did Obi-Wan take Luke after his birth? - Your answer: ldkjfsjdlf - Correct answer: Tatooine\n",
      "Question: What year did the first Star Wars movie come out? - Your answer: dkjfjdkfjsl - Correct answer: 1977\n",
      "Question: Who built C-3PO? - Your answer: dkfjjdfkjsk - Correct answer: Anakin Skywalker\n",
      "Question: Anakin Skywalker grew up to be who? - Your answer: djfjsfksk - Correct answer: Darth Vader\n",
      "Question: What species is Chewbacca? - Your answer: jdfjskjflksjlkj - Correct answer: Wookiee\n",
      "Would you play again?\n"
     ]
    }
   ],
   "source": [
    "data = [\n",
    "    {\n",
    "        \"question\": \"What is Baby Yoda's real name?\",\n",
    "        \"answer\": \"Grogu\"\n",
    "    },\n",
    "    {\n",
    "        \"question\": \"Where did Obi-Wan take Luke after his birth?\",\n",
    "        \"answer\": \"Tatooine\"\n",
    "    },\n",
    "    {\n",
    "        \"question\": \"What year did the first Star Wars movie come out?\",\n",
    "        \"answer\": \"1977\"\n",
    "    },\n",
    "    {\n",
    "        \"question\": \"Who built C-3PO?\",\n",
    "        \"answer\": \"Anakin Skywalker\"\n",
    "    },\n",
    "    {\n",
    "        \"question\": \"Anakin Skywalker grew up to be who?\",\n",
    "        \"answer\": \"Darth Vader\"\n",
    "    },\n",
    "    {\n",
    "        \"question\": \"What species is Chewbacca?\",\n",
    "        \"answer\": \"Wookiee\"\n",
    "    }\n",
    "]\n",
    "\n",
    "right_answers = []\n",
    "wrong_answers = []\n",
    "\n",
    "# Function to ask the questions and check the answers\n",
    "def check_know():\n",
    "    for q in data:\n",
    "        given_answer = input(f\"{q['question']} \")\n",
    "        if given_answer.lower() == q['answer'].lower():\n",
    "            right_answers.append(q['question'])\n",
    "        else:\n",
    "            wrong_answers.append((q['question'], given_answer, q['answer']))\n",
    "\n",
    "# Function to show the results\n",
    "def show_results():\n",
    "    print(f\"\\nCorrect answers: {len(right_answers)}\")\n",
    "    print(f\"Wrong answers: {len(wrong_answers)}\")\n",
    "\n",
    "    if wrong_answers:\n",
    "        print(\"\\nIncorrect answers:\")\n",
    "        for question, given_answer, correct_answer in wrong_answers:  # Change the variable name here\n",
    "            print(f\"Question: {question} - Your answer: {given_answer} - Correct answer: {correct_answer}\")\n",
    "    else:\n",
    "        print(\"\\nGreat job! You got everything correct.\")\n",
    "\n",
    "# Run the check_know function and show results\n",
    "check_know()\n",
    "show_results()\n",
    "\n",
    "if len(wrong_answers) > 3:\n",
    "    print(\"Would you play again?\")"
   ]
  }
 ],
 "metadata": {
  "kernelspec": {
   "display_name": "Python 3",
   "language": "python",
   "name": "python3"
  },
  "language_info": {
   "codemirror_mode": {
    "name": "ipython",
    "version": 3
   },
   "file_extension": ".py",
   "mimetype": "text/x-python",
   "name": "python",
   "nbconvert_exporter": "python",
   "pygments_lexer": "ipython3",
   "version": "3.11.9"
  }
 },
 "nbformat": 4,
 "nbformat_minor": 2
}
