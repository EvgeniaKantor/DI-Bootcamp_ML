{
 "cells": [
  {
   "cell_type": "code",
   "execution_count": 13,
   "metadata": {},
   "outputs": [
    {
     "name": "stdout",
     "output_type": "stream",
     "text": [
      "bag,hello,without,world\n"
     ]
    }
   ],
   "source": [
    "# Challenge 1\n",
    "# input_string = input(\"Enter a sequence of words separated by commas: \")\n",
    "input_string = 'without,hello,bag,world'\n",
    "\n",
    "# Write a program that accepts a comma separated sequence of words as input and prints the words \n",
    "# in a comma-separated sequence after sorting them alphabetically.\n",
    "\n",
    "# list_from_string = input_string.split(',')\n",
    "# list_from_string.sort()\n",
    "\n",
    "# sentance = ','.join(list_from_string)\n",
    "# print(sentance)\n",
    "\n",
    "sentence = ','.join([word for word in sorted(input_string.split(','))])\n",
    "print(sentence)"
   ]
  },
  {
   "cell_type": "code",
   "execution_count": 16,
   "metadata": {},
   "outputs": [
    {
     "name": "stdout",
     "output_type": "stream",
     "text": [
      "Margaret's\n",
      "forever.\n",
      "Forgetfulness\n"
     ]
    }
   ],
   "source": [
    "# Challenge 2\n",
    "# Write a function that finds the longest word in a sentence. If two or more words are found, return the first longest word.\n",
    "# Characters such as apostrophe, comma, period count as part of the word (e.g. O’Connor is 8 characters long).\n",
    "\n",
    "def find_longest(sentan):\n",
    "    words = sentan.split(' ')\n",
    "    long_word = max(words, key = len)\n",
    "    print(long_word)\n",
    "find_longest(\"Margaret's toy is a pretty doll.\")\n",
    "find_longest(\"A thing of beauty is a joy forever.\")\n",
    "find_longest(\"Forgetfulness is by all means powerless!\")"
   ]
  }
 ],
 "metadata": {
  "kernelspec": {
   "display_name": "Python 3",
   "language": "python",
   "name": "python3"
  },
  "language_info": {
   "codemirror_mode": {
    "name": "ipython",
    "version": 3
   },
   "file_extension": ".py",
   "mimetype": "text/x-python",
   "name": "python",
   "nbconvert_exporter": "python",
   "pygments_lexer": "ipython3",
   "version": "3.11.9"
  }
 },
 "nbformat": 4,
 "nbformat_minor": 2
}
