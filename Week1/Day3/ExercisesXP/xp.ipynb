{
 "cells": [
  {
   "cell_type": "code",
   "execution_count": 1,
   "metadata": {},
   "outputs": [
    {
     "name": "stdout",
     "output_type": "stream",
     "text": [
      "{'Ten': 10, 'Twenty': 20, 'Thirty': 30}\n"
     ]
    }
   ],
   "source": [
    "# Exercise 1 : Convert lists into dictionaries\n",
    "keys = ['Ten', 'Twenty', 'Thirty']\n",
    "values = [10, 20, 30]\n",
    "numbers_dict = dict(zip(keys, values))\n",
    "print(numbers_dict)"
   ]
  },
  {
   "cell_type": "code",
   "execution_count": 23,
   "metadata": {},
   "outputs": [
    {
     "name": "stdout",
     "output_type": "stream",
     "text": [
      "{'rick': 15, 'beth': 15, 'morty': 10, 'summer': 10}\n",
      "Total cost is 50$\n"
     ]
    }
   ],
   "source": [
    "# Exercise 2\n",
    "# A movie theater charges different ticket prices depending on a person’s age.\n",
    "# if a person is under the age of 3, the ticket is free.\n",
    "# if they are between 3 and 12, the ticket is $10.\n",
    "# if they are over the age of 12, the ticket is $15.\n",
    "\n",
    "baby = range(0, 3)\n",
    "child = range(3, 12)\n",
    "adult = range(12,120)\n",
    "\n",
    "family = {\"rick\": 43, 'beth': 13, 'morty': 5, 'summer': 8}\n",
    "cost_family = {}\n",
    "\n",
    "# How much does each family member have to pay ?\n",
    "for k, v in family.items():\n",
    "    if v in baby:\n",
    "        cost_family[k] = 0\n",
    "    elif v in child:\n",
    "        cost_family[k] = 10\n",
    "    elif v in adult:\n",
    "        cost_family[k] = 15\n",
    "print(cost_family)\n",
    "\n",
    "# Print out the family’s total cost for the movies.\n",
    "total_cost = 0\n",
    "\n",
    "for cost in cost_family.values():\n",
    "    total_cost += cost\n",
    "\n",
    "print(f'Total cost is {total_cost}$')"
   ]
  },
  {
   "cell_type": "code",
   "execution_count": 43,
   "metadata": {},
   "outputs": [
    {
     "name": "stdout",
     "output_type": "stream",
     "text": [
      "{'name': 'Zara', 'creation_date': '1975', 'creator_name': 'Amancio Ortega Gaona', 'type_of_clothes': ['men', 'women', 'children', 'home'], 'international_competitors': ['Gap', 'H&M', 'Benetton'], 'number_stores': 2, 'major_color': {'France': 'blue', 'Spain': 'red', 'US': ['pink', 'green']}}\n",
      "Zara creats goods for men, women, children, home\n",
      "{'name': 'Zara', 'creation_date': '1975', 'creator_name': 'Amancio Ortega Gaona', 'type_of_clothes': ['men', 'women', 'children', 'home'], 'international_competitors': ['Gap', 'H&M', 'Benetton'], 'number_stores': 2, 'major_color': {'France': 'blue', 'Spain': 'red', 'US': ['pink', 'green']}, 'country_creation': 'Spain'}\n",
      "True\n",
      "{'name': 'Zara', 'creation_date': '1975', 'creator_name': 'Amancio Ortega Gaona', 'type_of_clothes': ['men', 'women', 'children', 'home'], 'international_competitors': ['Gap', 'H&M', 'Benetton', 'Desigual'], 'number_stores': 2, 'major_color': {'France': 'blue', 'Spain': 'red', 'US': ['pink', 'green']}, 'country_creation': 'Spain'}\n",
      "{'name': 'Zara', 'type_of_clothes': ['men', 'women', 'children', 'home'], 'international_competitors': ['Gap', 'H&M', 'Benetton', 'Desigual'], 'number_stores': 2, 'major_color': {'France': 'blue', 'Spain': 'red', 'US': ['pink', 'green']}, 'country_creation': 'Spain'}\n",
      "The last international competitor is Desigual\n",
      "The major clothes colors in the US are pink and green\n",
      "Length of the dictionary is 6 key-value pairs\n",
      "dict_keys(['name', 'type_of_clothes', 'international_competitors', 'number_stores', 'major_color', 'country_creation'])\n",
      "{'name': 'Zara', 'type_of_clothes': ['men', 'women', 'children', 'home'], 'international_competitors': ['Gap', 'H&M', 'Benetton', 'Desigual'], 'number_stores': 10000, 'major_color': {'France': 'blue', 'Spain': 'red', 'US': ['pink', 'green']}, 'country_creation': 'Spain', 'creation_date': 1975}\n",
      "The value of the key number_stores is 10000 . It means that I change the value on the preious step\n"
     ]
    }
   ],
   "source": [
    "# Exercise 3\n",
    "# Create a dictionary called brand which value is the information from part one \n",
    "# (turn the info into keys and values).\n",
    "# The values type_of_clothes and international_competitors should be a list. \n",
    "# The value of major_color should be a dictionary.\n",
    "\n",
    "brand = {'name': 'Zara',\n",
    "         'creation_date': '1975',\n",
    "         'creator_name': 'Amancio Ortega Gaona',\n",
    "         'type_of_clothes': ['men', 'women', 'children', 'home'],\n",
    "         'international_competitors': ['Gap', 'H&M', 'Benetton'],\n",
    "         'number_stores': '7000',\n",
    "         'major_color':\n",
    "         {'France': 'blue',\n",
    "          'Spain': 'red',\n",
    "          'US': [\"pink\", \"green\"]}\n",
    "         }\n",
    "# Change the number of stores to 2\n",
    "brand['number_stores'] = 2\n",
    "print(brand)\n",
    "\n",
    "# Use the key [type_of_clothes] to print a sentence that explains who Zaras clients are\n",
    "print(\"Zara creats goods for\", ', '.join(brand['type_of_clothes']))\n",
    "\n",
    "# Add a key called country_creation with a value of Spain\n",
    "brand.update({'country_creation': 'Spain'})\n",
    "print(brand)\n",
    "\n",
    "# Check if the key international_competitors is in the dictionary. If it is, add the store Desigual\n",
    "print('international_competitors' in brand)\n",
    "\n",
    "for k,v in brand.items():\n",
    "    if k == 'international_competitors':\n",
    "        v.append('Desigual')\n",
    "print(brand)\n",
    "\n",
    "#  Delete the information about the date of creation\n",
    "creation = ['creation_date', 'creator_name']\n",
    "\n",
    "for k in creation:\n",
    "    if k in brand:\n",
    "        del brand[k]\n",
    "print(brand)\n",
    "\n",
    "# Print the last international competitor\n",
    "print(\"The last international competitor is\", brand['international_competitors'][-1])\n",
    "\n",
    "# Print the major clothes colors in the US\n",
    "print(\"The major clothes colors in the US are\", ' and '.join(brand['major_color']['US']))\n",
    "\n",
    "# Print the amount of key value pairs (ie. length of the dictionary)\n",
    "print(\"Length of the dictionary is\", len(brand), \"key-value pairs\")\n",
    "\n",
    "#  Print the keys of the dictionary\n",
    "print(brand.keys())\n",
    "\n",
    "# Create another dictionary called more_on_zara\n",
    "more_on_zara = {\"creation_date\": 1975, \n",
    "                \"number_stores\": 10000\n",
    "                }\n",
    "\n",
    "# Use a method to add the information from the dictionary more_on_zara to the dictionary brand\n",
    "brand.update(more_on_zara)\n",
    "print(brand)\n",
    "\n",
    "# Print the value of the key number_stores\n",
    "print(\"The value of the key number_stores is\", brand['number_stores'],\". It means that I change the value on the preious step\")"
   ]
  },
  {
   "cell_type": "code",
   "execution_count": 57,
   "metadata": {},
   "outputs": [
    {
     "name": "stdout",
     "output_type": "stream",
     "text": [
      "{'Mickey': 0, 'Minnie': 1, 'Donald': 2, 'Ariel': 3, 'Pluto': 4}\n",
      "{0: 'Mickey', 1: 'Minnie', 2: 'Donald', 3: 'Ariel', 4: 'Pluto'}\n",
      "{'Ariel': 0, 'Donald': 1, 'Mickey': 2, 'Minnie': 3, 'Pluto': 4}\n",
      "{'Mickey': 0, 'Minnie': 1, 'Ariel': 3}\n",
      "{'Mickey': 0, 'Minnie': 1, 'Pluto': 4}\n"
     ]
    }
   ],
   "source": [
    "# Exercise 4\n",
    "users = [\"Mickey\",\"Minnie\",\"Donald\",\"Ariel\",\"Pluto\"]\n",
    "\n",
    "# print(disney_users_A)\n",
    "# {\"Mickey\": 0, \"Minnie\": 1, \"Donald\": 2, \"Ariel\": 3, \"Pluto\": 4}\n",
    "disney_user_A = {}\n",
    "\n",
    "for index, person in enumerate(users):\n",
    "    disney_user_A[person] = index\n",
    "print(disney_user_A)\n",
    "\n",
    "# print(disney_users_B)\n",
    "# {0: \"Mickey\",1: \"Minnie\", 2: \"Donald\", 3: \"Ariel\", 4: \"Pluto\"}\n",
    "disney_user_B = {}\n",
    "\n",
    "for index, person in enumerate(users):\n",
    "    disney_user_B[index] = person\n",
    "print(disney_user_B)\n",
    "\n",
    "# print(disney_users_C)\n",
    "# {\"Ariel\": 0, \"Donald\": 1, \"Mickey\": 2, \"Minnie\": 3, \"Pluto\": 4}\n",
    "disney_user_C = {}\n",
    "\n",
    "for index, person in enumerate(sorted(users)):\n",
    "    disney_user_C[person] = index\n",
    "print(disney_user_C)\n",
    "\n",
    "# Only recreate the 1st result for:\n",
    "# The characters, which names contain the letter “i”.\n",
    "# The characters, which names start with the letter “m” or “p”.\n",
    "disney_user_D = {}\n",
    "\n",
    "for index, person in enumerate(users):\n",
    "    if 'i' in person.lower():\n",
    "        disney_user_D[person] = index\n",
    "print(disney_user_D)\n",
    "\n",
    "disney_user_F = {}\n",
    "\n",
    "for index, person in enumerate(users):\n",
    "    if person.lower()[0] in ['m', 'p']:\n",
    "        disney_user_F[person] = index\n",
    "print(disney_user_F)"
   ]
  }
 ],
 "metadata": {
  "kernelspec": {
   "display_name": "Python 3",
   "language": "python",
   "name": "python3"
  },
  "language_info": {
   "codemirror_mode": {
    "name": "ipython",
    "version": 3
   },
   "file_extension": ".py",
   "mimetype": "text/x-python",
   "name": "python",
   "nbconvert_exporter": "python",
   "pygments_lexer": "ipython3",
   "version": "3.11.9"
  }
 },
 "nbformat": 4,
 "nbformat_minor": 2
}
