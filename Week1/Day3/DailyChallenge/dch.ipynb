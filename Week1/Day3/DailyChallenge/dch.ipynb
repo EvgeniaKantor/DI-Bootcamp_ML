{
 "cells": [
  {
   "cell_type": "code",
   "execution_count": 7,
   "metadata": {},
   "outputs": [
    {
     "name": "stdout",
     "output_type": "stream",
     "text": [
      "{'d': [0], 'k': [1], 'f': [2]}\n"
     ]
    }
   ],
   "source": [
    "# Challenge 1\n",
    "# Ask a user for a word\n",
    "user_word = list(input(\"Enter your word: \"))\n",
    "\n",
    "creates_dict = {}\n",
    "\n",
    "# Write a program that creates a dictionary. This dictionary stores the indexes of each letter in a list.\n",
    "# Make sure the letters are the keys.\n",
    "# Make sure the letters are strings.\n",
    "# Make sure the indexes are stored in a list and those lists are values.\n",
    "\n",
    "for index, char in enumerate(user_word):\n",
    "    if char not in creates_dict:\n",
    "        creates_dict[char] = []\n",
    "        creates_dict[char].append(index)\n",
    "print(creates_dict)\n"
   ]
  },
  {
   "cell_type": "code",
   "execution_count": 28,
   "metadata": {},
   "outputs": [
    {
     "name": "stdout",
     "output_type": "stream",
     "text": [
      "{'Water': 1, 'Bread': 3, 'TV': 1000, 'Fertilizer': 20}\n",
      "You can afford: Bread, Fertilizer, Water for 24 $ in total\n"
     ]
    }
   ],
   "source": [
    "# # Challenge 2\n",
    "# Create a program that prints a list of the items you can afford in the store with the money you have in your wallet.\n",
    "# Sort the list in alphabetical order.\n",
    "# Return “Nothing” if you can’t afford anything from the store.\n",
    "# Hint : make sure to convert the amount from dollars to numbers. \n",
    "# Create a program that deletes the $ sign, and the comma (for thousands)\n",
    "items_purchase = {\"Water\": \"$1\",\n",
    "                  \"Bread\": \"$3\",\n",
    "                  \"TV\": \"$1,000\",\n",
    "                  \"Fertilizer\": \"$20\"\n",
    "                  }\n",
    "\n",
    "wallet = \"$300\"\n",
    "basket = []\n",
    "total_cost = 0\n",
    "\n",
    "wallet = int(wallet.strip('$'))\n",
    "\n",
    "for k,v in items_purchase.items():\n",
    "    items_purchase[k] = int(v.replace(\"$\", \"\").replace(\",\", \"\"))\n",
    "print(items_purchase)\n",
    "\n",
    "for item, price in sorted(items_purchase.items()):  \n",
    "    if total_cost + price <= wallet:  # Buy as many of this item as possible\n",
    "        basket.append(item)\n",
    "        total_cost += price\n",
    "        \n",
    "    \n",
    "if basket:\n",
    "    print(\"You can afford:\", ', '.join(basket), \"for\", total_cost, \"$ in total\")\n",
    "else:\n",
    "    print(\"Nothing\")\n"
   ]
  }
 ],
 "metadata": {
  "kernelspec": {
   "display_name": "Python 3",
   "language": "python",
   "name": "python3"
  },
  "language_info": {
   "codemirror_mode": {
    "name": "ipython",
    "version": 3
   },
   "file_extension": ".py",
   "mimetype": "text/x-python",
   "name": "python",
   "nbconvert_exporter": "python",
   "pygments_lexer": "ipython3",
   "version": "3.11.9"
  }
 },
 "nbformat": 4,
 "nbformat_minor": 2
}
