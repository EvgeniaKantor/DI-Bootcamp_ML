{
  "nbformat": 4,
  "nbformat_minor": 0,
  "metadata": {
    "colab": {
      "provenance": [],
      "authorship_tag": "ABX9TyMn2B/ha7XX6QQE0rd2Tst0",
      "include_colab_link": true
    },
    "kernelspec": {
      "name": "python3",
      "display_name": "Python 3"
    },
    "language_info": {
      "name": "python"
    }
  },
  "cells": [
    {
      "cell_type": "markdown",
      "metadata": {
        "id": "view-in-github",
        "colab_type": "text"
      },
      "source": [
        "<a href=\"https://colab.research.google.com/github/EvgeniaKantor/DI-Bootcamp_ML/blob/main/xpW4D3.ipynb\" target=\"_parent\"><img src=\"https://colab.research.google.com/assets/colab-badge.svg\" alt=\"Open In Colab\"/></a>"
      ]
    },
    {
      "cell_type": "code",
      "source": [
        "import numpy as np\n",
        "from scipy import stats\n",
        "import pandas as pd"
      ],
      "metadata": {
        "id": "79DRJreQoOBg"
      },
      "execution_count": 11,
      "outputs": []
    },
    {
      "cell_type": "markdown",
      "source": [
        "# 🌟 Exercise 1: Basic Usage of SciPy"
      ],
      "metadata": {
        "id": "WUU7evv7mzNA"
      }
    },
    {
      "cell_type": "markdown",
      "source": [
        "Task: Import the SciPy library and explore its version."
      ],
      "metadata": {
        "id": "iC1oF2U_m3dh"
      }
    },
    {
      "cell_type": "code",
      "execution_count": 2,
      "metadata": {
        "colab": {
          "base_uri": "https://localhost:8080/"
        },
        "id": "6UJLFq2Hmk2b",
        "outputId": "c09fe21e-18fd-4ad4-d822-2dd0bd01ff2f"
      },
      "outputs": [
        {
          "output_type": "stream",
          "name": "stdout",
          "text": [
            "1.13.1\n"
          ]
        }
      ],
      "source": [
        "import scipy\n",
        "print(scipy.__version__)"
      ]
    },
    {
      "cell_type": "markdown",
      "source": [
        "# 🌟 Exercise 2: Descriptive Statistics"
      ],
      "metadata": {
        "id": "WUn1vqwnnQf5"
      }
    },
    {
      "cell_type": "markdown",
      "source": [
        "Task: Given a sample dataset, calculate the mean, median, variance, and standard deviation using SciPy.\n",
        "\n",
        "Sample Dataset:\n",
        "\n",
        "data = [12, 15, 13, 12, 18, 20, 22, 21]"
      ],
      "metadata": {
        "id": "odN2Qzm9nUKi"
      }
    },
    {
      "cell_type": "code",
      "source": [
        "data = [12, 15, 13, 12, 18, 20, 22, 21]\n",
        "data_mean = stats.tmean(data)\n",
        "data_median = np.median(data)\n",
        "data_var = stats.tvar(data)\n",
        "data_std = stats.tstd(data)\n",
        "\n",
        "print(f\"Mean: {data_mean}\")\n",
        "print(f\"Median: {data_median}\")\n",
        "print(f\"Variance: {data_var}\")\n",
        "print(f\"Standard Deviation: {data_std}\")"
      ],
      "metadata": {
        "colab": {
          "base_uri": "https://localhost:8080/"
        },
        "id": "LtRLnW9wn3h3",
        "outputId": "fa205e86-6556-4d52-c761-1a176864d3e0"
      },
      "execution_count": 6,
      "outputs": [
        {
          "output_type": "stream",
          "name": "stdout",
          "text": [
            "Mean: 16.625\n",
            "Median: 16.5\n",
            "Variance: 17.125\n",
            "Standard Deviation: 4.138236339311712\n"
          ]
        }
      ]
    },
    {
      "cell_type": "markdown",
      "source": [
        "# 🌟 Exercise 3: Understanding Distributions"
      ],
      "metadata": {
        "id": "AXX6S6Udo8rB"
      }
    },
    {
      "cell_type": "markdown",
      "source": [
        "Task: Generate a normal distribution using SciPy with a mean of 50 and a standard deviation of 10. Plot this distribution.\n",
        "\n",
        "Code Example:\n",
        "\n",
        "import numpy as np\n",
        "import matplotlib.pyplot as plt\n",
        "from scipy.stats import norm"
      ],
      "metadata": {
        "id": "hfOLZMsWo_oF"
      }
    },
    {
      "cell_type": "code",
      "source": [
        "import matplotlib.pyplot as plt\n",
        "from scipy.stats import norm\n",
        "\n",
        "# Parameters for the normal distribution\n",
        "mean = 50\n",
        "std_dev = 10\n",
        "\n",
        "# Generate a range of values for the x-axis\n",
        "x = np.linspace(mean - 4*std_dev, mean + 4*std_dev, 1000)\n",
        "\n",
        "# Calculate the probability density function (PDF)\n",
        "pdf = norm.pdf(x, mean, std_dev)\n",
        "\n",
        "# Plot the normal distribution\n",
        "plt.figure(figsize=(10, 6))\n",
        "plt.plot(x, pdf, label='Normal Distribution', color='blue')\n",
        "plt.title('Normal Distribution (Mean=50, Std Dev=10)')\n",
        "plt.xlabel('Value')\n",
        "plt.ylabel('Probability Density')\n",
        "plt.grid(True)\n",
        "plt.legend()\n",
        "plt.show()"
      ],
      "metadata": {
        "colab": {
          "base_uri": "https://localhost:8080/",
          "height": 564
        },
        "id": "ZgoPzCxOpEbY",
        "outputId": "e58de13d-5df1-4502-d0ed-a7eea43d0e82"
      },
      "execution_count": 7,
      "outputs": [
        {
          "output_type": "display_data",
          "data": {
            "text/plain": [
              "<Figure size 1000x600 with 1 Axes>"
            ],
            "image/png": "[encoded data removed]"
          },
          "metadata": {}
        }
      ]
    },
    {
      "cell_type": "markdown",
      "source": [
        "# 🌟 Exercise 4: T-Test Application"
      ],
      "metadata": {
        "id": "4ARoaZxIt7FH"
      }
    },
    {
      "cell_type": "markdown",
      "source": [
        "Task: Perform a T-test on two sets of randomly generated data.\n",
        "\n",
        "Code Example:"
      ],
      "metadata": {
        "id": "2iB-2se7uABD"
      }
    },
    {
      "cell_type": "code",
      "source": [
        "group1 = stats.norm.rvs(loc=5, scale=10, size=100)\n",
        "group2 = stats.norm.rvs(loc=5, scale=20, size=100)\n",
        "\n",
        "t_statistic, p_value = stats.ttest_ind(group1, group2)\n",
        "\n",
        "print(f\"T-Statistic: {t_statistic}\")\n",
        "print(f\"P-Value: {p_value}\")"
      ],
      "metadata": {
        "colab": {
          "base_uri": "https://localhost:8080/"
        },
        "id": "xaq7pAjPuBub",
        "outputId": "d4df8f50-4e24-4af1-f2ea-3cd8cf833033"
      },
      "execution_count": 10,
      "outputs": [
        {
          "output_type": "stream",
          "name": "stdout",
          "text": [
            "T-Statistic: -0.0264175198467095\n",
            "P-Value: 0.9789509263721303\n"
          ]
        }
      ]
    },
    {
      "cell_type": "markdown",
      "source": [
        "# 🌟 Exercise 5: Linear Regression Analysis"
      ],
      "metadata": {
        "id": "5XaJGfdeBdHz"
      }
    },
    {
      "cell_type": "markdown",
      "source": [
        "Objective: Apply linear regression to a dataset and interpret the results.\n",
        "\n",
        "Task: Given a dataset of housing prices (house_prices) and their corresponding sizes (house_sizes), use linear regression to predict the price of a house given its size.\n",
        "\n",
        "Dataset:\n",
        "\n",
        "house_sizes: [50, 70, 80, 100, 120] (in square meters)\n",
        "house_prices: [150,000, 200,000, 210,000, 250,000, 280,000] (in currency units)\n",
        "\n",
        "Questions:\n",
        "\n",
        "What is the slope and intercept of the regression line?\n",
        "Predict the price of a house that is 90 square meters.\n",
        "Interpret the meaning of the slope in the context of housing prices."
      ],
      "metadata": {
        "id": "hHFWuSfmBhQx"
      }
    },
    {
      "cell_type": "code",
      "source": [
        "house_sizes = np.array([50, 70, 80, 100, 120])\n",
        "house_prices = np.array([150000, 200000, 210000, 250000, 280000])\n",
        "df = pd.DataFrame({'house_sizes': house_sizes, 'house_prices': house_prices})\n",
        "df"
      ],
      "metadata": {
        "colab": {
          "base_uri": "https://localhost:8080/",
          "height": 206
        },
        "id": "h0TVygtGB1Uc",
        "outputId": "f6ce0a92-b266-4c53-cd3d-1544451abda2"
      },
      "execution_count": 12,
      "outputs": [
        {
          "output_type": "execute_result",
          "data": {
            "text/plain": [
              "   house_sizes  house_prices\n",
              "0           50        150000\n",
              "1           70        200000\n",
              "2           80        210000\n",
              "3          100        250000\n",
              "4          120        280000"
            ],
            "text/html": [
              "\n",
              "  <div id=\"df-81d569cf-dab6-4bd9-92ac-1eaf56b556f6\" class=\"colab-df-container\">\n",
              "    <div>\n",
              "<style scoped>\n",
              "    .dataframe tbody tr th:only-of-type {\n",
              "        vertical-align: middle;\n",
              "    }\n",
              "\n",
              "    .dataframe tbody tr th {\n",
              "        vertical-align: top;\n",
              "    }\n",
              "\n",
              "    .dataframe thead th {\n",
              "        text-align: right;\n",
              "    }\n",
              "</style>\n",
              "<table border=\"1\" class=\"dataframe\">\n",
              "  <thead>\n",
              "    <tr style=\"text-align: right;\">\n",
              "      <th></th>\n",
              "      <th>house_sizes</th>\n",
              "      <th>house_prices</th>\n",
              "    </tr>\n",
              "  </thead>\n",
              "  <tbody>\n",
              "    <tr>\n",
              "      <th>0</th>\n",
              "      <td>50</td>\n",
              "      <td>150000</td>\n",
              "    </tr>\n",
              "    <tr>\n",
              "      <th>1</th>\n",
              "      <td>70</td>\n",
              "      <td>200000</td>\n",
              "    </tr>\n",
              "    <tr>\n",
              "      <th>2</th>\n",
              "      <td>80</td>\n",
              "      <td>210000</td>\n",
              "    </tr>\n",
              "    <tr>\n",
              "      <th>3</th>\n",
              "      <td>100</td>\n",
              "      <td>250000</td>\n",
              "    </tr>\n",
              "    <tr>\n",
              "      <th>4</th>\n",
              "      <td>120</td>\n",
              "      <td>280000</td>\n",
              "    </tr>\n",
              "  </tbody>\n",
              "</table>\n",
              "</div>\n",
              "    <div class=\"colab-df-buttons\">\n",
              "\n",
              "  <div class=\"colab-df-container\">\n",
              "    <button class=\"colab-df-convert\" onclick=\"convertToInteractive('df-81d569cf-dab6-4bd9-92ac-1eaf56b556f6')\"\n",
              "            title=\"Convert this dataframe to an interactive table.\"\n",
              "            style=\"display:none;\">\n",
              "\n",
              "  <svg xmlns=\"http://www.w3.org/2000/svg\" height=\"24px\" viewBox=\"0 -960 960 960\">\n",
              "    <path d=\"M120-120v-720h720v720H120Zm60-500h600v-160H180v160Zm220 220h160v-160H400v160Zm0 220h160v-160H400v160ZM180-400h160v-160H180v160Zm440 0h160v-160H620v160ZM180-180h160v-160H180v160Zm440 0h160v-160H620v160Z\"/>\n",
              "  </svg>\n",
              "    </button>\n",
              "\n",
              "  <style>\n",
              "    .colab-df-container {\n",
              "      display:flex;\n",
              "      gap: 12px;\n",
              "    }\n",
              "\n",
              "    .colab-df-convert {\n",
              "      background-color: #E8F0FE;\n",
              "      border: none;\n",
              "      border-radius: 50%;\n",
              "      cursor: pointer;\n",
              "      display: none;\n",
              "      fill: #1967D2;\n",
              "      height: 32px;\n",
              "      padding: 0 0 0 0;\n",
              "      width: 32px;\n",
              "    }\n",
              "\n",
              "    .colab-df-convert:hover {\n",
              "      background-color: #E2EBFA;\n",
              "      box-shadow: 0px 1px 2px rgba(60, 64, 67, 0.3), 0px 1px 3px 1px rgba(60, 64, 67, 0.15);\n",
              "      fill: #174EA6;\n",
              "    }\n",
              "\n",
              "    .colab-df-buttons div {\n",
              "      margin-bottom: 4px;\n",
              "    }\n",
              "\n",
              "    [theme=dark] .colab-df-convert {\n",
              "      background-color: #3B4455;\n",
              "      fill: #D2E3FC;\n",
              "    }\n",
              "\n",
              "    [theme=dark] .colab-df-convert:hover {\n",
              "      background-color: #434B5C;\n",
              "      box-shadow: 0px 1px 3px 1px rgba(0, 0, 0, 0.15);\n",
              "      filter: drop-shadow(0px 1px 2px rgba(0, 0, 0, 0.3));\n",
              "      fill: #FFFFFF;\n",
              "    }\n",
              "  </style>\n",
              "\n",
              "    <script>\n",
              "      const buttonEl =\n",
              "        document.querySelector('#df-81d569cf-dab6-4bd9-92ac-1eaf56b556f6 button.colab-df-convert');\n",
              "      buttonEl.style.display =\n",
              "        google.colab.kernel.accessAllowed ? 'block' : 'none';\n",
              "\n",
              "      async function convertToInteractive(key) {\n",
              "        const element = document.querySelector('#df-81d569cf-dab6-4bd9-92ac-1eaf56b556f6');\n",
              "        const dataTable =\n",
              "          await google.colab.kernel.invokeFunction('convertToInteractive',\n",
              "                                                    [key], {});\n",
              "        if (!dataTable) return;\n",
              "\n",
              "        const docLinkHtml = 'Like what you see? Visit the ' +\n",
              "          '<a target=\"_blank\" href=https://colab.research.google.com/notebooks/data_table.ipynb>data table notebook</a>'\n",
              "          + ' to learn more about interactive tables.';\n",
              "        element.innerHTML = '';\n",
              "        dataTable['output_type'] = 'display_data';\n",
              "        await google.colab.output.renderOutput(dataTable, element);\n",
              "        const docLink = document.createElement('div');\n",
              "        docLink.innerHTML = docLinkHtml;\n",
              "        element.appendChild(docLink);\n",
              "      }\n",
              "    </script>\n",
              "  </div>\n",
              "\n",
              "\n",
              "<div id=\"df-108b5b23-fb49-4894-a519-9704997963d2\">\n",
              "  <button class=\"colab-df-quickchart\" onclick=\"quickchart('df-108b5b23-fb49-4894-a519-9704997963d2')\"\n",
              "            title=\"Suggest charts\"\n",
              "            style=\"display:none;\">\n",
              "\n",
              "<svg xmlns=\"http://www.w3.org/2000/svg\" height=\"24px\"viewBox=\"0 0 24 24\"\n",
              "     width=\"24px\">\n",
              "    <g>\n",
              "        <path d=\"M19 3H5c-1.1 0-2 .9-2 2v14c0 1.1.9 2 2 2h14c1.1 0 2-.9 2-2V5c0-1.1-.9-2-2-2zM9 17H7v-7h2v7zm4 0h-2V7h2v10zm4 0h-2v-4h2v4z\"/>\n",
              "    </g>\n",
              "</svg>\n",
              "  </button>\n",
              "\n",
              "<style>\n",
              "  .colab-df-quickchart {\n",
              "      --bg-color: #E8F0FE;\n",
              "      --fill-color: #1967D2;\n",
              "      --hover-bg-color: #E2EBFA;\n",
              "      --hover-fill-color: #174EA6;\n",
              "      --disabled-fill-color: #AAA;\n",
              "      --disabled-bg-color: #DDD;\n",
              "  }\n",
              "\n",
              "  [theme=dark] .colab-df-quickchart {\n",
              "      --bg-color: #3B4455;\n",
              "      --fill-color: #D2E3FC;\n",
              "      --hover-bg-color: #434B5C;\n",
              "      --hover-fill-color: #FFFFFF;\n",
              "      --disabled-bg-color: #3B4455;\n",
              "      --disabled-fill-color: #666;\n",
              "  }\n",
              "\n",
              "  .colab-df-quickchart {\n",
              "    background-color: var(--bg-color);\n",
              "    border: none;\n",
              "    border-radius: 50%;\n",
              "    cursor: pointer;\n",
              "    display: none;\n",
              "    fill: var(--fill-color);\n",
              "    height: 32px;\n",
              "    padding: 0;\n",
              "    width: 32px;\n",
              "  }\n",
              "\n",
              "  .colab-df-quickchart:hover {\n",
              "    background-color: var(--hover-bg-color);\n",
              "    box-shadow: 0 1px 2px rgba(60, 64, 67, 0.3), 0 1px 3px 1px rgba(60, 64, 67, 0.15);\n",
              "    fill: var(--button-hover-fill-color);\n",
              "  }\n",
              "\n",
              "  .colab-df-quickchart-complete:disabled,\n",
              "  .colab-df-quickchart-complete:disabled:hover {\n",
              "    background-color: var(--disabled-bg-color);\n",
              "    fill: var(--disabled-fill-color);\n",
              "    box-shadow: none;\n",
              "  }\n",
              "\n",
              "  .colab-df-spinner {\n",
              "    border: 2px solid var(--fill-color);\n",
              "    border-color: transparent;\n",
              "    border-bottom-color: var(--fill-color);\n",
              "    animation:\n",
              "      spin 1s steps(1) infinite;\n",
              "  }\n",
              "\n",
              "  @keyframes spin {\n",
              "    0% {\n",
              "      border-color: transparent;\n",
              "      border-bottom-color: var(--fill-color);\n",
              "      border-left-color: var(--fill-color);\n",
              "    }\n",
              "    20% {\n",
              "      border-color: transparent;\n",
              "      border-left-color: var(--fill-color);\n",
              "      border-top-color: var(--fill-color);\n",
              "    }\n",
              "    30% {\n",
              "      border-color: transparent;\n",
              "      border-left-color: var(--fill-color);\n",
              "      border-top-color: var(--fill-color);\n",
              "      border-right-color: var(--fill-color);\n",
              "    }\n",
              "    40% {\n",
              "      border-color: transparent;\n",
              "      border-right-color: var(--fill-color);\n",
              "      border-top-color: var(--fill-color);\n",
              "    }\n",
              "    60% {\n",
              "      border-color: transparent;\n",
              "      border-right-color: var(--fill-color);\n",
              "    }\n",
              "    80% {\n",
              "      border-color: transparent;\n",
              "      border-right-color: var(--fill-color);\n",
              "      border-bottom-color: var(--fill-color);\n",
              "    }\n",
              "    90% {\n",
              "      border-color: transparent;\n",
              "      border-bottom-color: var(--fill-color);\n",
              "    }\n",
              "  }\n",
              "</style>\n",
              "\n",
              "  <script>\n",
              "    async function quickchart(key) {\n",
              "      const quickchartButtonEl =\n",
              "        document.querySelector('#' + key + ' button');\n",
              "      quickchartButtonEl.disabled = true;  // To prevent multiple clicks.\n",
              "      quickchartButtonEl.classList.add('colab-df-spinner');\n",
              "      try {\n",
              "        const charts = await google.colab.kernel.invokeFunction(\n",
              "            'suggestCharts', [key], {});\n",
              "      } catch (error) {\n",
              "        console.error('Error during call to suggestCharts:', error);\n",
              "      }\n",
              "      quickchartButtonEl.classList.remove('colab-df-spinner');\n",
              "      quickchartButtonEl.classList.add('colab-df-quickchart-complete');\n",
              "    }\n",
              "    (() => {\n",
              "      let quickchartButtonEl =\n",
              "        document.querySelector('#df-108b5b23-fb49-4894-a519-9704997963d2 button');\n",
              "      quickchartButtonEl.style.display =\n",
              "        google.colab.kernel.accessAllowed ? 'block' : 'none';\n",
              "    })();\n",
              "  </script>\n",
              "</div>\n",
              "\n",
              "  <div id=\"id_e9b67386-06e2-4203-91e7-b9d8640f2997\">\n",
              "    <style>\n",
              "      .colab-df-generate {\n",
              "        background-color: #E8F0FE;\n",
              "        border: none;\n",
              "        border-radius: 50%;\n",
              "        cursor: pointer;\n",
              "        display: none;\n",
              "        fill: #1967D2;\n",
              "        height: 32px;\n",
              "        padding: 0 0 0 0;\n",
              "        width: 32px;\n",
              "      }\n",
              "\n",
              "      .colab-df-generate:hover {\n",
              "        background-color: #E2EBFA;\n",
              "        box-shadow: 0px 1px 2px rgba(60, 64, 67, 0.3), 0px 1px 3px 1px rgba(60, 64, 67, 0.15);\n",
              "        fill: #174EA6;\n",
              "      }\n",
              "\n",
              "      [theme=dark] .colab-df-generate {\n",
              "        background-color: #3B4455;\n",
              "        fill: #D2E3FC;\n",
              "      }\n",
              "\n",
              "      [theme=dark] .colab-df-generate:hover {\n",
              "        background-color: #434B5C;\n",
              "        box-shadow: 0px 1px 3px 1px rgba(0, 0, 0, 0.15);\n",
              "        filter: drop-shadow(0px 1px 2px rgba(0, 0, 0, 0.3));\n",
              "        fill: #FFFFFF;\n",
              "      }\n",
              "    </style>\n",
              "    <button class=\"colab-df-generate\" onclick=\"generateWithVariable('df')\"\n",
              "            title=\"Generate code using this dataframe.\"\n",
              "            style=\"display:none;\">\n",
              "\n",
              "  <svg xmlns=\"http://www.w3.org/2000/svg\" height=\"24px\"viewBox=\"0 0 24 24\"\n",
              "       width=\"24px\">\n",
              "    <path d=\"M7,19H8.4L18.45,9,17,7.55,7,17.6ZM5,21V16.75L18.45,3.32a2,2,0,0,1,2.83,0l1.4,1.43a1.91,1.91,0,0,1,.58,1.4,1.91,1.91,0,0,1-.58,1.4L9.25,21ZM18.45,9,17,7.55Zm-12,3A5.31,5.31,0,0,0,4.9,8.1,5.31,5.31,0,0,0,1,6.5,5.31,5.31,0,0,0,4.9,4.9,5.31,5.31,0,0,0,6.5,1,5.31,5.31,0,0,0,8.1,4.9,5.31,5.31,0,0,0,12,6.5,5.46,5.46,0,0,0,6.5,12Z\"/>\n",
              "  </svg>\n",
              "    </button>\n",
              "    <script>\n",
              "      (() => {\n",
              "      const buttonEl =\n",
              "        document.querySelector('#id_e9b67386-06e2-4203-91e7-b9d8640f2997 button.colab-df-generate');\n",
              "      buttonEl.style.display =\n",
              "        google.colab.kernel.accessAllowed ? 'block' : 'none';\n",
              "\n",
              "      buttonEl.onclick = () => {\n",
              "        google.colab.notebook.generateWithVariable('df');\n",
              "      }\n",
              "      })();\n",
              "    </script>\n",
              "  </div>\n",
              "\n",
              "    </div>\n",
              "  </div>\n"
            ],
            "application/vnd.google.colaboratory.intrinsic+json": {
              "type": "dataframe",
              "variable_name": "df",
              "summary": "{\n  \"name\": \"df\",\n  \"rows\": 5,\n  \"fields\": [\n    {\n      \"column\": \"house_sizes\",\n      \"properties\": {\n        \"dtype\": \"number\",\n        \"std\": 27,\n        \"min\": 50,\n        \"max\": 120,\n        \"num_unique_values\": 5,\n        \"samples\": [\n          70,\n          120,\n          80\n        ],\n        \"semantic_type\": \"\",\n        \"description\": \"\"\n      }\n    },\n    {\n      \"column\": \"house_prices\",\n      \"properties\": {\n        \"dtype\": \"number\",\n        \"std\": 49699,\n        \"min\": 150000,\n        \"max\": 280000,\n        \"num_unique_values\": 5,\n        \"samples\": [\n          200000,\n          280000,\n          210000\n        ],\n        \"semantic_type\": \"\",\n        \"description\": \"\"\n      }\n    }\n  ]\n}"
            }
          },
          "metadata": {},
          "execution_count": 12
        }
      ]
    },
    {
      "cell_type": "code",
      "source": [
        "#create a liner regression\n",
        "slope, intercept, r_value, p_value, std_err = stats.linregress(house_sizes, house_prices)\n",
        "\n",
        "print(f\"Slope: {slope}\")\n",
        "print(f\"Intercept: {intercept}\")\n",
        "print(f\"R-value: {r_value}\")\n",
        "print(f\"P-value: {p_value}\")\n",
        "print(f\"Standard Error: {std_err}\")"
      ],
      "metadata": {
        "colab": {
          "base_uri": "https://localhost:8080/"
        },
        "id": "2BmIeSJnC4NO",
        "outputId": "f2f6fcca-7708-4342-ce08-955c30f8b00f"
      },
      "execution_count": 14,
      "outputs": [
        {
          "output_type": "stream",
          "name": "stdout",
          "text": [
            "Slope: 1828.7671232876712\n",
            "Intercept: 64383.56164383562\n",
            "R-value: 0.9941945063380758\n",
            "P-value: 0.0005305349938203051\n",
            "Standard Error: 114.26934937207407\n"
          ]
        }
      ]
    },
    {
      "cell_type": "code",
      "source": [
        "# crete a visualizatin of the regression line\n",
        "plt.figure(figsize=(10, 6))\n",
        "plt.scatter(house_sizes, house_prices, label='Data Points', color='blue')\n",
        "plt.plot(house_sizes, slope * house_sizes + intercept, color='red', label='Regression Line')\n",
        "plt.title('Linear Regression of Housing Prices')\n",
        "plt.xlabel('House Size (Square Meters)')\n",
        "plt.ylabel('House Price (Currency Units)')\n",
        "plt"
      ],
      "metadata": {
        "colab": {
          "base_uri": "https://localhost:8080/",
          "height": 581
        },
        "id": "rmFz9XuXHkUV",
        "outputId": "a42dec8f-4465-457d-8b62-e55b8749612d"
      },
      "execution_count": 16,
      "outputs": [
        {
          "output_type": "execute_result",
          "data": {
            "text/plain": [
              "<module 'matplotlib.pyplot' from '/usr/local/lib/python3.11/dist-packages/matplotlib/pyplot.py'>"
            ]
          },
          "metadata": {},
          "execution_count": 16
        },
        {
          "output_type": "display_data",
          "data": {
            "text/plain": [
              "<Figure size 1000x600 with 1 Axes>"
            ],
            "image/png": "[encoded data removed]"
          },
          "metadata": {}
        }
      ]
    },
    {
      "cell_type": "code",
      "source": [
        "# Predict the price of a house that is 90 square meters.\n",
        "predicted_price = slope * 90 + intercept\n",
        "print(f\"Predicted price for a house of size 90 square meters: {predicted_price.round(2)}$\")"
      ],
      "metadata": {
        "colab": {
          "base_uri": "https://localhost:8080/"
        },
        "id": "8Vo6JOGKH7I8",
        "outputId": "8888adb7-7f08-447d-8fa0-260990bf1625"
      },
      "execution_count": 19,
      "outputs": [
        {
          "output_type": "stream",
          "name": "stdout",
          "text": [
            "Predicted price for a house of size 90 square meters: 228972.6$\n"
          ]
        }
      ]
    },
    {
      "cell_type": "markdown",
      "source": [
        "# 🌟 Exercise 6: Understanding ANOVA"
      ],
      "metadata": {
        "id": "Qvq1ux8IJVG1"
      }
    },
    {
      "cell_type": "markdown",
      "source": [
        "Objective: Test understanding of ANOVA and its application.\n",
        "\n",
        "Task: Three different fertilizers are applied to three separate groups of plants to test their effectiveness. The growth in centimeters is recorded.\n",
        "\n",
        "Dataset:\n",
        "\n",
        "fertilizer_1: [5, 6, 7, 6, 5]\n",
        "\n",
        "fertilizer_2: [7, 8, 7, 9, 8]\n",
        "\n",
        "fertilizer_3: [4, 5, 4, 3, 4]\n",
        "\n",
        "Questions:\n",
        "\n",
        "Perform an ANOVA test on the given data. What are the F-value and P-value?\n",
        "\n",
        "Based on the P-value, do the fertilizers have significantly different effects on plant growth?\n",
        "\n",
        "Explain what would happen if the P-value were greater than 0.05."
      ],
      "metadata": {
        "id": "tiw09iQGJYQ5"
      }
    },
    {
      "cell_type": "code",
      "source": [
        "# Growth data for each fertilizer group\n",
        "fertilizer_1 = [5, 6, 7, 6, 5]\n",
        "fertilizer_2 = [7, 8, 7, 9, 8]\n",
        "fertilizer_3 = [4, 5, 4, 3, 4]"
      ],
      "metadata": {
        "id": "nsqmKiR1LLiP"
      },
      "execution_count": 21,
      "outputs": []
    },
    {
      "cell_type": "code",
      "source": [
        "# Perform an ANOVA test on the given data. What are the F-value and P-value?\n",
        "f_value, p_value = stats.f_oneway(fertilizer_1, fertilizer_2, fertilizer_3)\n",
        "\n",
        "print(f\"F-value: {f_value:.3f}\")\n",
        "print(f\"P-value: {p_value:.3f}\")"
      ],
      "metadata": {
        "colab": {
          "base_uri": "https://localhost:8080/"
        },
        "id": "z0Imedo9MNN8",
        "outputId": "43edcbfd-12ca-4407-d4e7-54ec12581877"
      },
      "execution_count": 23,
      "outputs": [
        {
          "output_type": "stream",
          "name": "stdout",
          "text": [
            "F-value: 28.526\n",
            "P-value: 0.000\n"
          ]
        }
      ]
    },
    {
      "cell_type": "code",
      "source": [
        "alpha = 0.05\n",
        "if p_value < alpha:\n",
        "    print(\"Reject the null hypothesis. This suggests that at least one fertilizer has a significantly different effect on plant growth.\")\n",
        "else:\n",
        "    print(\"Fail to reject the null hypothesis. This means there's no significant difference between the fertilizers' effects.\")"
      ],
      "metadata": {
        "colab": {
          "base_uri": "https://localhost:8080/"
        },
        "id": "QLBZAH7TNcct",
        "outputId": "2e9ad0ad-a492-407d-db21-5628844d3d96"
      },
      "execution_count": 25,
      "outputs": [
        {
          "output_type": "stream",
          "name": "stdout",
          "text": [
            "Reject the null hypothesis. This suggests that at least one fertilizer has a significantly different effect on plant growth.\n"
          ]
        }
      ]
    },
    {
      "cell_type": "markdown",
      "source": [
        "# 🌟 Exercise 7: Probability Distributions (Optional)"
      ],
      "metadata": {
        "id": "PnzGbw0yOGEW"
      }
    },
    {
      "cell_type": "markdown",
      "source": [
        "Work with a binomial distribution: calculate probabilities for different numbers of successes.\n",
        "\n",
        "Example: Calculating the probability of getting exactly 5 heads in 10 coin flips.\n"
      ],
      "metadata": {
        "id": "_x0QZaXeOHRp"
      }
    },
    {
      "cell_type": "code",
      "source": [
        "from scipy.stats import binom\n",
        "\n",
        "# Parameters\n",
        "n = 10  # Number of flips\n",
        "k = 5   # Number of heads\n",
        "p = 0.5 # Probability of getting a head\n",
        "\n",
        "# Calculate the probability of getting exactly 5 heads in 10 flips\n",
        "probability = binom.pmf(k, n, p)\n",
        "\n",
        "print(f\"Probability of getting exactly {k} heads in {n} flips: {probability:.4f}\")"
      ],
      "metadata": {
        "colab": {
          "base_uri": "https://localhost:8080/"
        },
        "id": "QhEzKkY9OQWh",
        "outputId": "f654ebff-3a19-4d4f-b1ee-c4909c211422"
      },
      "execution_count": 26,
      "outputs": [
        {
          "output_type": "stream",
          "name": "stdout",
          "text": [
            "Probability of getting exactly 5 heads in 10 flips: 0.2461\n"
          ]
        }
      ]
    },
    {
      "cell_type": "code",
      "source": [
        "import matplotlib.pyplot as plt\n",
        "\n",
        "# All possible numbers of heads (0 to 10)\n",
        "x = range(n+1)\n",
        "# Calculate the probability for each outcome\n",
        "probabilities = [binom.pmf(i, n, p) for i in x]\n",
        "\n",
        "# Plot the distribution\n",
        "plt.bar(x, probabilities, color='skyblue')\n",
        "plt.xlabel('Number of Heads')\n",
        "plt.ylabel('Probability')\n",
        "plt.title('Binomial Distribution: 10 Coin Flips (p=0.5)')\n",
        "plt.grid(True, linestyle='--', alpha=0.7)\n",
        "plt.show()"
      ],
      "metadata": {
        "colab": {
          "base_uri": "https://localhost:8080/",
          "height": 472
        },
        "id": "Lko84UH4TWi9",
        "outputId": "0baac468-36e0-4b57-c00b-a7c0dabb874d"
      },
      "execution_count": 27,
      "outputs": [
        {
          "output_type": "display_data",
          "data": {
            "text/plain": [
              "<Figure size 640x480 with 1 Axes>"
            ],
            "image/png": "[encoded data removed]"
          },
          "metadata": {}
        }
      ]
    },
    {
      "cell_type": "markdown",
      "source": [
        "# 🌟 Exercise 8: Correlation Coefficients (Optional)"
      ],
      "metadata": {
        "id": "iWNMwIurTeLt"
      }
    },
    {
      "cell_type": "markdown",
      "source": [
        "Calculate the Pearson and Spearman correlation coefficients between two variables in a dataset.\n",
        "\n",
        "Example in code: data = pd.DataFrame({'age': [23, 25, 30, 35, 40], 'income': [35000, 40000, 50000, 60000, 70000]})\n"
      ],
      "metadata": {
        "id": "8y1QoGEkTiX9"
      }
    },
    {
      "cell_type": "code",
      "source": [
        "from scipy.stats import pearsonr, spearmanr\n",
        "\n",
        "data = pd.DataFrame({'age': [23, 25, 30, 35, 40], 'income': [35000, 40000, 50000, 60000, 70000]})\n",
        "# Display the DataFrame\n",
        "print(\"Dataset:\")\n",
        "print(data)\n",
        "\n",
        "# Calculate Pearson correlation coefficient\n",
        "pearson_corr, pearson_p_value = pearsonr(data['age'], data['income'])\n",
        "print(f\"\\nPearson correlation coefficient: {pearson_corr:.3f}\")\n",
        "print(f\"Pearson p-value: {pearson_p_value:.3f}\")\n",
        "\n",
        "# Calculate Spearman correlation coefficient\n",
        "spearman_corr, spearman_p_value = spearmanr(data['age'], data['income'])\n",
        "print(f\"\\nSpearman correlation coefficient: {spearman_corr:.3f}\")\n",
        "print(f\"Spearman p-value: {spearman_p_value:.3f}\")"
      ],
      "metadata": {
        "colab": {
          "base_uri": "https://localhost:8080/"
        },
        "id": "ku0-eq_oTukF",
        "outputId": "26b4c570-d183-49af-ebbf-2a6125791c72"
      },
      "execution_count": 29,
      "outputs": [
        {
          "output_type": "stream",
          "name": "stdout",
          "text": [
            "Dataset:\n",
            "   age  income\n",
            "0   23   35000\n",
            "1   25   40000\n",
            "2   30   50000\n",
            "3   35   60000\n",
            "4   40   70000\n",
            "\n",
            "Pearson correlation coefficient: 1.000\n",
            "Pearson p-value: 0.000\n",
            "\n",
            "Spearman correlation coefficient: 1.000\n",
            "Spearman p-value: 0.000\n"
          ]
        }
      ]
    }
  ]
}