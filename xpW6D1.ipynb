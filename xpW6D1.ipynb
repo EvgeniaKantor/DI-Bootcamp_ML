{
  "nbformat": 4,
  "nbformat_minor": 0,
  "metadata": {
    "colab": {
      "provenance": [],
      "authorship_tag": "ABX9TyN4DfUeFjPhShYEXtQ5VLQA",
      "include_colab_link": true
    },
    "kernelspec": {
      "name": "python3",
      "display_name": "Python 3"
    },
    "language_info": {
      "name": "python"
    }
  },
  "cells": [
    {
      "cell_type": "markdown",
      "metadata": {
        "id": "view-in-github",
        "colab_type": "text"
      },
      "source": [
        "<a href=\"https://colab.research.google.com/github/EvgeniaKantor/DI-Bootcamp_ML/blob/main/xpW6D1.ipynb\" target=\"_parent\"><img src=\"https://colab.research.google.com/assets/colab-badge.svg\" alt=\"Open In Colab\"/></a>"
      ]
    },
    {
      "cell_type": "markdown",
      "source": [
        "# 🌟 Exercise 1 : Small Quizz\n",
        "\n",
        "**What is the key difference between traditional machine learning and deep learning?**\n",
        "\n",
        "1) Feature Engineering vs. Automatic Feature Learning\n",
        "\n",
        "Traditional Machine Learning: Requires manual feature extraction and selection. Domain experts must identify and engineer relevant features before feeding them into models like decision trees, SVMs, or logistic regression.\n",
        "\n",
        "Deep Learning: Learns features automatically from raw data using multiple layers of artificial neural networks.\n",
        "\n",
        "2) Complexity & Data Requirements\n",
        "\n",
        "Traditional ML: Works well with structured data (e.g., tabular data) and typically requires less data to perform effectively.\n",
        "\n",
        "Deep Learning: Excels in unstructured data (e.g., images, text, audio) and requires large datasets for training.\n",
        "\n",
        "3) Model Architecture\n",
        "\n",
        "Traditional ML: Uses simpler algorithms such as decision trees, random forests, or gradient boosting.\n",
        "\n",
        "Deep Learning: Uses deep neural networks with many hidden layers (e.g., CNNs for images, RNNs for sequences, Transformers for NLP).\n",
        "\n",
        "4) Computational Power\n",
        "\n",
        "Traditional ML: Can run efficiently on standard CPUs.\n",
        "\n",
        "Deep Learning: Requires high computational power, typically using GPUs or TPUs.\n",
        "\n",
        "5) Interpretability\n",
        "\n",
        "Traditional ML: More interpretable and explainable, making it easier to understand decision-making.\n",
        "\n",
        "Deep Learning: Often considered a black box, making interpretation and debugging more challenging.\n",
        "\n",
        "When to Use:\n",
        "\n",
        "Use Traditional ML for small datasets, structured data, and when interpretability is crucial.\n",
        "\n",
        "Use Deep Learning for large datasets, complex unstructured data, and when automated feature learning is beneficial.\n",
        "\n",
        "\n",
        "**How do artificial neural networks (ANNs) mimic the human brain?**\n",
        "\n",
        "Just as biological neurons in the brain are connected through synapses, ANNs consist of artificial neurons (nodes) connected by weighted links.\n",
        "\n",
        "\n",
        "**Why does deep learning perform better on large datasets compared to traditional machine learning?**\n",
        "\n",
        "Deep learning outperforms traditional ML on large datasets because it can automate feature extraction, scale effectively, generalize better, and learn from high-dimensional unstructured data—all while leveraging advanced optimization techniques.\n",
        "\n",
        "**What are some challenges of deep learning, and how can they be addressed?**\n",
        "\n",
        "1. High Data Requirements\n",
        "2. High Computational Costs\n",
        "3. Lack of Interpretability (“Black Box” Problem)\n",
        "\n",
        "**What is feature engineering, and why is it not needed in deep learning?**\n",
        "\n",
        "Deep networks, especially Convolutional Neural Networks (CNNs) and Transformers, learn features at different levels.\n",
        "\n",
        "Early layers detect simple patterns (edges, textures), while deeper layers learn complex features (objects, meanings).\n",
        "\n",
        "Deep learning models process raw data directly, learning representations internally without manual preprocessing.\n",
        "\n",
        "Deep learning leverages hidden layers to extract meaningful lower-dimensional representations.\n",
        "\n",
        "Deep learning improves with more data—learning complex, high-dimensional representations on its own.\n",
        "\n",
        "**What role do hidden layers play in a deep learning model?**\n",
        "\n",
        "They extract hierarchical features, introduce non-linearity, compress information, and enable complex learning. More layers allow deeper feature learning, but excessive layers can lead to overfitting or vanishing gradients without proper optimization techniques.\n",
        "\n",
        "**In an artificial neural network (ANN), what is the function of an activation function?**\n",
        "\n",
        "An activation function is a mathematical function applied to the output of each neuron in a neural network. Its primary role is to introduce non-linearity into the model, enabling it to learn complex patterns and decision boundaries.\n"
      ],
      "metadata": {
        "id": "Tb1qioIAkg5u"
      }
    },
    {
      "cell_type": "markdown",
      "source": [
        "# 🌟 Exercise 2 : Building a Simple Perceptron Decision System\n",
        "\n",
        "You will manually create a simple perceptron-based decision system to determine whether you should go outside based on two inputs:\n",
        "\n",
        "Temperature (°F)\n",
        "\n",
        "Rainy (Yes = 1, No = 0)\n",
        "\n",
        "You will assign weights, compute the weighted sum, apply an activation function, and determine the final decision.\n",
        "\n",
        "Temperature weight = 0.6\n",
        "\n",
        "Rain weight = 0.4\n",
        "\n",
        "Bias = 2\n",
        "\n",
        "Compute the weighted sum using the formula:\n",
        "\n",
        "Weighted Sum=(Temperature×0.6)+(Rain×0.4)+Bias\n",
        "\n",
        "Weighted Sum=(Temperature×0.6)+(Rain×0.4)+Bias\n",
        "\n",
        "Apply a Step Activation Function:\n",
        "\n",
        "If Weighted Sum > 20, output 1 (Yes, go outside)\n",
        "\n",
        "If Weighted Sum ≤ 20, output 0 (No, stay inside)\n",
        "\n",
        "1. Calculate the output for the following conditions:\n",
        "\n",
        "Case 1: Temperature = 70°F, Rain = 0 (No)\n",
        "\n",
        "Case 2: Temperature = 50°F, Rain = 1 (Yes)\n",
        "\n",
        "2. Interpret the results: Did the perceptron suggest going outside in both cases? Why or why not?\n",
        "\n"
      ],
      "metadata": {
        "id": "nemdPbJzCpmr"
      }
    },
    {
      "cell_type": "code",
      "execution_count": null,
      "metadata": {
        "colab": {
          "base_uri": "https://localhost:8080/"
        },
        "id": "gQHyhd07kgLB",
        "outputId": "de8dd1a3-9275-419c-9b96-a9fb77a85e83"
      },
      "outputs": [
        {
          "output_type": "stream",
          "name": "stdout",
          "text": [
            "Yes, go outside\n",
            "Yes, go outside\n"
          ]
        }
      ],
      "source": [
        "temp = {70: 0, 50: 1}\n",
        "for key, value in temp.items():\n",
        "    wf = (key * 0.6)+(value * 0.4)+2\n",
        "    if wf > 20:\n",
        "        print(\"Yes, go outside\")\n",
        "    else:\n",
        "        print(\"No, stay inside\")"
      ]
    },
    {
      "cell_type": "markdown",
      "source": [
        "# 🌟 Exercise 3 : Building a Simple Neural Network with TensorFlow/Keras\n",
        "\n",
        "Build a simple neural network using TensorFlow/Keras to classify handwritten digits from the MNIST dataset. The network should have:\n",
        "\n",
        "One input layer.\n",
        "\n",
        "One hidden layer with 128 neurons and ReLU activation.\n",
        "\n",
        "One output layer with 10 neurons (for 10 classes) and softmax activation.\n",
        "\n",
        "Dataset: The MNIST dataset is included in TensorFlow/Keras and can be loaded using:"
      ],
      "metadata": {
        "id": "YpNQo1YUE4OD"
      }
    },
    {
      "cell_type": "code",
      "source": [
        "!pip install tensorflow"
      ],
      "metadata": {
        "collapsed": true,
        "colab": {
          "base_uri": "https://localhost:8080/"
        },
        "id": "LIlH5akmHXtu",
        "outputId": "b451c9c8-d09e-4d2e-8fa4-5f4965e3f180"
      },
      "execution_count": null,
      "outputs": [
        {
          "output_type": "stream",
          "name": "stdout",
          "text": [
            "Requirement already satisfied: tensorflow in /usr/local/lib/python3.11/dist-packages (2.18.0)\n",
            "Requirement already satisfied: absl-py>=1.0.0 in /usr/local/lib/python3.11/dist-packages (from tensorflow) (1.4.0)\n",
            "Requirement already satisfied: astunparse>=1.6.0 in /usr/local/lib/python3.11/dist-packages (from tensorflow) (1.6.3)\n",
            "Requirement already satisfied: flatbuffers>=24.3.25 in /usr/local/lib/python3.11/dist-packages (from tensorflow) (25.2.10)\n",
            "Requirement already satisfied: gast!=0.5.0,!=0.5.1,!=0.5.2,>=0.2.1 in /usr/local/lib/python3.11/dist-packages (from tensorflow) (0.6.0)\n",
            "Requirement already satisfied: google-pasta>=0.1.1 in /usr/local/lib/python3.11/dist-packages (from tensorflow) (0.2.0)\n",
            "Requirement already satisfied: libclang>=13.0.0 in /usr/local/lib/python3.11/dist-packages (from tensorflow) (18.1.1)\n",
            "Requirement already satisfied: opt-einsum>=2.3.2 in /usr/local/lib/python3.11/dist-packages (from tensorflow) (3.4.0)\n",
            "Requirement already satisfied: packaging in /usr/local/lib/python3.11/dist-packages (from tensorflow) (24.2)\n",
            "Requirement already satisfied: protobuf!=4.21.0,!=4.21.1,!=4.21.2,!=4.21.3,!=4.21.4,!=4.21.5,<6.0.0dev,>=3.20.3 in /usr/local/lib/python3.11/dist-packages (from tensorflow) (5.29.3)\n",
            "Requirement already satisfied: requests<3,>=2.21.0 in /usr/local/lib/python3.11/dist-packages (from tensorflow) (2.32.3)\n",
            "Requirement already satisfied: setuptools in /usr/local/lib/python3.11/dist-packages (from tensorflow) (75.1.0)\n",
            "Requirement already satisfied: six>=1.12.0 in /usr/local/lib/python3.11/dist-packages (from tensorflow) (1.17.0)\n",
            "Requirement already satisfied: termcolor>=1.1.0 in /usr/local/lib/python3.11/dist-packages (from tensorflow) (2.5.0)\n",
            "Requirement already satisfied: typing-extensions>=3.6.6 in /usr/local/lib/python3.11/dist-packages (from tensorflow) (4.12.2)\n",
            "Requirement already satisfied: wrapt>=1.11.0 in /usr/local/lib/python3.11/dist-packages (from tensorflow) (1.17.2)\n",
            "Requirement already satisfied: grpcio<2.0,>=1.24.3 in /usr/local/lib/python3.11/dist-packages (from tensorflow) (1.71.0)\n",
            "Requirement already satisfied: tensorboard<2.19,>=2.18 in /usr/local/lib/python3.11/dist-packages (from tensorflow) (2.18.0)\n",
            "Requirement already satisfied: keras>=3.5.0 in /usr/local/lib/python3.11/dist-packages (from tensorflow) (3.8.0)\n",
            "Requirement already satisfied: numpy<2.1.0,>=1.26.0 in /usr/local/lib/python3.11/dist-packages (from tensorflow) (2.0.2)\n",
            "Requirement already satisfied: h5py>=3.11.0 in /usr/local/lib/python3.11/dist-packages (from tensorflow) (3.13.0)\n",
            "Requirement already satisfied: ml-dtypes<0.5.0,>=0.4.0 in /usr/local/lib/python3.11/dist-packages (from tensorflow) (0.4.1)\n",
            "Requirement already satisfied: tensorflow-io-gcs-filesystem>=0.23.1 in /usr/local/lib/python3.11/dist-packages (from tensorflow) (0.37.1)\n",
            "Requirement already satisfied: wheel<1.0,>=0.23.0 in /usr/local/lib/python3.11/dist-packages (from astunparse>=1.6.0->tensorflow) (0.45.1)\n",
            "Requirement already satisfied: rich in /usr/local/lib/python3.11/dist-packages (from keras>=3.5.0->tensorflow) (13.9.4)\n",
            "Requirement already satisfied: namex in /usr/local/lib/python3.11/dist-packages (from keras>=3.5.0->tensorflow) (0.0.8)\n",
            "Requirement already satisfied: optree in /usr/local/lib/python3.11/dist-packages (from keras>=3.5.0->tensorflow) (0.14.1)\n",
            "Requirement already satisfied: charset-normalizer<4,>=2 in /usr/local/lib/python3.11/dist-packages (from requests<3,>=2.21.0->tensorflow) (3.4.1)\n",
            "Requirement already satisfied: idna<4,>=2.5 in /usr/local/lib/python3.11/dist-packages (from requests<3,>=2.21.0->tensorflow) (3.10)\n",
            "Requirement already satisfied: urllib3<3,>=1.21.1 in /usr/local/lib/python3.11/dist-packages (from requests<3,>=2.21.0->tensorflow) (2.3.0)\n",
            "Requirement already satisfied: certifi>=2017.4.17 in /usr/local/lib/python3.11/dist-packages (from requests<3,>=2.21.0->tensorflow) (2025.1.31)\n",
            "Requirement already satisfied: markdown>=2.6.8 in /usr/local/lib/python3.11/dist-packages (from tensorboard<2.19,>=2.18->tensorflow) (3.7)\n",
            "Requirement already satisfied: tensorboard-data-server<0.8.0,>=0.7.0 in /usr/local/lib/python3.11/dist-packages (from tensorboard<2.19,>=2.18->tensorflow) (0.7.2)\n",
            "Requirement already satisfied: werkzeug>=1.0.1 in /usr/local/lib/python3.11/dist-packages (from tensorboard<2.19,>=2.18->tensorflow) (3.1.3)\n",
            "Requirement already satisfied: MarkupSafe>=2.1.1 in /usr/local/lib/python3.11/dist-packages (from werkzeug>=1.0.1->tensorboard<2.19,>=2.18->tensorflow) (3.0.2)\n",
            "Requirement already satisfied: markdown-it-py>=2.2.0 in /usr/local/lib/python3.11/dist-packages (from rich->keras>=3.5.0->tensorflow) (3.0.0)\n",
            "Requirement already satisfied: pygments<3.0.0,>=2.13.0 in /usr/local/lib/python3.11/dist-packages (from rich->keras>=3.5.0->tensorflow) (2.18.0)\n",
            "Requirement already satisfied: mdurl~=0.1 in /usr/local/lib/python3.11/dist-packages (from markdown-it-py>=2.2.0->rich->keras>=3.5.0->tensorflow) (0.1.2)\n"
          ]
        }
      ]
    },
    {
      "cell_type": "code",
      "source": [
        "from tensorflow.keras.datasets import mnist\n",
        "import tensorflow as tf\n",
        "from tensorflow import keras\n",
        "\n",
        "# Load Fashion MNIST dataset\n",
        "(x_train_data, y_train_data), (x_val_data, y_val_data) = keras.datasets.fashion_mnist.load_data()\n",
        "\n",
        "# Preprocessing function to normalize images and cast labels to integers\n",
        "def preprocessing_function(x_new, y_new):\n",
        "    x_new = tf.cast(x_new, tf.float32) / 255.0  # Normalize pixel values to [0, 1]\n",
        "    y_new = tf.cast(y_new, tf.int64)            # Ensure labels are integers\n",
        "    return x_new, y_new\n",
        "\n",
        "# Function to create the dataset with one-hot encoding and batching\n",
        "def func_creating_dataset(xs_data, ys_data, num_classes=10):\n",
        "    ys_data = tf.one_hot(ys_data, depth=num_classes)  # One-hot encode the labels\n",
        "    return tf.data.Dataset.from_tensor_slices((xs_data, ys_data)) \\\n",
        "        .map(preprocessing_function) \\\n",
        "        .shuffle(buffer_size=1000) \\\n",
        "        .batch(32)  # Batch size of 32\n",
        "\n",
        "# Prepare the datasets\n",
        "train_dataset = func_creating_dataset(x_train_data, y_train_data)\n",
        "val_dataset = func_creating_dataset(x_val_data, y_val_data)\n",
        "\n",
        "# Define the model\n",
        "My_model = keras.Sequential([\n",
        "    keras.layers.Reshape(target_shape=(28 * 28,), input_shape=(28, 28)),  # Flatten the 28x28 images\n",
        "    keras.layers.Dense(units=128, activation='relu'),                    # Hidden layer with 128 neurons\n",
        "    keras.layers.Dense(units=10, activation='softmax')                   # Output layer (10 classes)\n",
        "])\n",
        "\n",
        "# Compile the model\n",
        "My_model.compile(optimizer='adam',\n",
        "                 loss='categorical_crossentropy',  # Using categorical cross-entropy for one-hot encoded labels\n",
        "                 metrics=['accuracy'])\n",
        "\n",
        "# Train the model\n",
        "history = My_model.fit(train_dataset, epochs=5, validation_data=val_dataset)\n",
        "\n",
        "# Evaluate the model\n",
        "test_loss, test_acc = My_model.evaluate(val_dataset)\n",
        "print(f\"Validation Accuracy: {test_acc:.4f}\")\n",
        "\n",
        "# Optionally, plot the training and validation accuracy over epochs\n",
        "import matplotlib.pyplot as plt\n",
        "\n",
        "plt.plot(history.history['accuracy'], label='Train Accuracy')\n",
        "plt.plot(history.history['val_accuracy'], label='Validation Accuracy')\n",
        "plt.xlabel('Epoch')\n",
        "plt.ylabel('Accuracy')\n",
        "plt.legend()\n",
        "plt.show()\n"
      ],
      "metadata": {
        "colab": {
          "base_uri": "https://localhost:8080/",
          "height": 851
        },
        "id": "l-ITa0XxFLwn",
        "outputId": "b0498d31-56a2-416e-fb05-f87ab30f0ddb"
      },
      "execution_count": null,
      "outputs": [
        {
          "output_type": "stream",
          "name": "stdout",
          "text": [
            "Downloading data from https://storage.googleapis.com/tensorflow/tf-keras-datasets/train-labels-idx1-ubyte.gz\n",
            "\u001b[1m29515/29515\u001b[0m \u001b[32m━━━━━━━━━━━━━━━━━━━━\u001b[0m\u001b[37m\u001b[0m \u001b[1m0s\u001b[0m 0us/step\n",
            "Downloading data from https://storage.googleapis.com/tensorflow/tf-keras-datasets/train-images-idx3-ubyte.gz\n",
            "\u001b[1m26421880/26421880\u001b[0m \u001b[32m━━━━━━━━━━━━━━━━━━━━\u001b[0m\u001b[37m\u001b[0m \u001b[1m0s\u001b[0m 0us/step\n",
            "Downloading data from https://storage.googleapis.com/tensorflow/tf-keras-datasets/t10k-labels-idx1-ubyte.gz\n",
            "\u001b[1m5148/5148\u001b[0m \u001b[32m━━━━━━━━━━━━━━━━━━━━\u001b[0m\u001b[37m\u001b[0m \u001b[1m0s\u001b[0m 0us/step\n",
            "Downloading data from https://storage.googleapis.com/tensorflow/tf-keras-datasets/t10k-images-idx3-ubyte.gz\n",
            "\u001b[1m4422102/4422102\u001b[0m \u001b[32m━━━━━━━━━━━━━━━━━━━━\u001b[0m\u001b[37m\u001b[0m \u001b[1m0s\u001b[0m 0us/step\n",
            "Epoch 1/5\n"
          ]
        },
        {
          "output_type": "stream",
          "name": "stderr",
          "text": [
            "/usr/local/lib/python3.11/dist-packages/keras/src/layers/reshaping/reshape.py:39: UserWarning: Do not pass an `input_shape`/`input_dim` argument to a layer. When using Sequential models, prefer using an `Input(shape)` object as the first layer in the model instead.\n",
            "  super().__init__(**kwargs)\n"
          ]
        },
        {
          "output_type": "stream",
          "name": "stdout",
          "text": [
            "\u001b[1m1875/1875\u001b[0m \u001b[32m━━━━━━━━━━━━━━━━━━━━\u001b[0m\u001b[37m\u001b[0m \u001b[1m15s\u001b[0m 7ms/step - accuracy: 0.7817 - loss: 0.6301 - val_accuracy: 0.8482 - val_loss: 0.4220\n",
            "Epoch 2/5\n",
            "\u001b[1m1875/1875\u001b[0m \u001b[32m━━━━━━━━━━━━━━━━━━━━\u001b[0m\u001b[37m\u001b[0m \u001b[1m14s\u001b[0m 7ms/step - accuracy: 0.8619 - loss: 0.3853 - val_accuracy: 0.8589 - val_loss: 0.3922\n",
            "Epoch 3/5\n",
            "\u001b[1m1875/1875\u001b[0m \u001b[32m━━━━━━━━━━━━━━━━━━━━\u001b[0m\u001b[37m\u001b[0m \u001b[1m24s\u001b[0m 9ms/step - accuracy: 0.8727 - loss: 0.3442 - val_accuracy: 0.8649 - val_loss: 0.3808\n",
            "Epoch 4/5\n",
            "\u001b[1m1875/1875\u001b[0m \u001b[32m━━━━━━━━━━━━━━━━━━━━\u001b[0m\u001b[37m\u001b[0m \u001b[1m14s\u001b[0m 7ms/step - accuracy: 0.8837 - loss: 0.3153 - val_accuracy: 0.8699 - val_loss: 0.3608\n",
            "Epoch 5/5\n",
            "\u001b[1m1875/1875\u001b[0m \u001b[32m━━━━━━━━━━━━━━━━━━━━\u001b[0m\u001b[37m\u001b[0m \u001b[1m20s\u001b[0m 7ms/step - accuracy: 0.8910 - loss: 0.2955 - val_accuracy: 0.8733 - val_loss: 0.3532\n",
            "\u001b[1m313/313\u001b[0m \u001b[32m━━━━━━━━━━━━━━━━━━━━\u001b[0m\u001b[37m\u001b[0m \u001b[1m1s\u001b[0m 3ms/step - accuracy: 0.8739 - loss: 0.3454\n",
            "Validation Accuracy: 0.8733\n"
          ]
        },
        {
          "output_type": "display_data",
          "data": {
            "text/plain": [
              "<Figure size 640x480 with 1 Axes>"
            ],
            "image/png": "[encoded data removed]"
          },
          "metadata": {}
        }
      ]
    },
    {
      "cell_type": "markdown",
      "source": [
        "# 🌟 Exercise 4 : Forward Propagation Calculation\n",
        "\n",
        "In this exercise, you will manually compute the forward propagation of a simple neural network that predicts house prices based on:\n",
        "\n",
        "Square Footage (x₁)\n",
        "\n",
        "Number of Bedrooms (x₂)\n",
        "\n",
        "We will calculate the output using the following given values:\n",
        "\n",
        "Input Values:\n",
        "\n",
        "    x₁ = 2000 (Square Footage)\n",
        "\n",
        "    x₂ = 3 (Number of Bedrooms)\n",
        "\n",
        "Initial Weights:\n",
        "\n",
        "    w₁ = 0.5 (Weight for Square Footage)\n",
        "\n",
        "    w₂ = 0.7 (Weight for Bedrooms)\n",
        "\n",
        "Bias: b = 50,000\n",
        "\n",
        "Activation Function: ReLU (Rectified Linear Unit)\n",
        "\n",
        "Calculate the output value “z” before activation.\n",
        "\n",
        "Apply the ReLU function to compute the final prediction.\n",
        "\n",
        "Interpret the result: What is the predicted house price?\n",
        "\n"
      ],
      "metadata": {
        "id": "61WxBki0PopE"
      }
    },
    {
      "cell_type": "code",
      "source": [
        "# Given inputs\n",
        "x1 = 2000  # Square Footage\n",
        "x2 = 3     # Number of Bedrooms\n",
        "\n",
        "# Initial weights\n",
        "w1 = 0.5   # Weight for Square Footage\n",
        "w2 = 0.7   # Weight for Bedrooms\n",
        "\n",
        "# Bias\n",
        "b = 50000\n",
        "\n",
        "# Step 1: Compute the weighted sum (z)\n",
        "z = (x1 * w1) + (x2 * w2) + b\n",
        "\n",
        "# Step 2: Apply ReLU activation function\n",
        "def relu(x):\n",
        "    return max(0, x)\n",
        "\n",
        "# Apply ReLU to the weighted sum\n",
        "output = relu(z)\n",
        "\n",
        "# Print the results\n",
        "print(f\"Weighted Sum (z): {z}\")\n",
        "print(f\"Predicted House Price (ReLU applied): ${output:.2f}\")\n"
      ],
      "metadata": {
        "colab": {
          "base_uri": "https://localhost:8080/"
        },
        "id": "AmkQaIfPQ2oO",
        "outputId": "999d2041-9f4d-4df3-fed9-87cf890b8d4b"
      },
      "execution_count": null,
      "outputs": [
        {
          "output_type": "stream",
          "name": "stdout",
          "text": [
            "Weighted Sum (z): 51002.1\n",
            "Predicted House Price (ReLU applied): $51002.10\n"
          ]
        }
      ]
    },
    {
      "cell_type": "markdown",
      "source": [
        "# 🌟 Exercise 5 : Implementing Forward and Backward Propagation in Python\n",
        "\n",
        "You will code a simple neural network that performs forward propagation and backpropagation for a regression problem (predicting exam scores based on study hours).\n",
        "\n",
        "Run the code and observe how the weights and bias update.\n",
        "\n",
        "Explain why updating weights using gradient descent reduces the error.\n",
        "\n",
        "Modify the initial weights or learning rate and see how it affects learning.\n"
      ],
      "metadata": {
        "id": "p3MkD1iQRXyx"
      }
    },
    {
      "cell_type": "code",
      "source": [
        "import numpy as np\n",
        "\n",
        "# Initialize input data (features)\n",
        "x = np.array([4, 80])  # 4 hours studied, previous test score: 80\n",
        "\n",
        "# Initialize weights and bias\n",
        "w = np.array([0.6, 0.3])  # Initial weights\n",
        "b = 10  # Initial bias\n",
        "\n",
        "# Forward Propagation\n",
        "def forward_propagation(x, w, b):\n",
        "    z = np.dot(x, w) + b  # Weighted sum\n",
        "    return z  # Linear activation (No ReLU here, it's a regression task)\n",
        "\n",
        "# Compute prediction\n",
        "y_pred = forward_propagation(x, w, b)\n",
        "y_true = 85  # Actual exam score\n",
        "\n",
        "# Compute Loss (Mean Squared Error)\n",
        "loss = 0.5 * (y_true - y_pred) ** 2\n",
        "\n",
        "# Compute Gradients\n",
        "grad_w = -(y_true - y_pred) * x  # Partial derivatives with respect to weights\n",
        "grad_b = -(y_true - y_pred)  # Partial derivative with respect to bias\n",
        "\n",
        "# Update Weights and Bias\n",
        "learning_rate = 0.01\n",
        "w_new = w - learning_rate * grad_w\n",
        "b_new = b - learning_rate * grad_b\n",
        "\n",
        "# Print Results\n",
        "print(\"Initial Prediction:\", y_pred)\n",
        "print(\"Loss:\", loss)\n",
        "print(\"Updated Weights:\", w_new)\n",
        "print(\"Updated Bias:\", b_new)"
      ],
      "metadata": {
        "colab": {
          "base_uri": "https://localhost:8080/"
        },
        "id": "7U4iUKnoR9jA",
        "outputId": "eb1e47e8-b9eb-47a0-9caf-9d53dee9c614"
      },
      "execution_count": null,
      "outputs": [
        {
          "output_type": "stream",
          "name": "stdout",
          "text": [
            "Initial Prediction: 36.4\n",
            "Loss: 1180.98\n",
            "Updated Weights: [ 2.544 39.18 ]\n",
            "Updated Bias: 10.486\n"
          ]
        }
      ]
    },
    {
      "cell_type": "markdown",
      "source": [
        "Understanding the Results:\n",
        "Initial Prediction (y_pred = 36.4) is far from the True Score (y_true = 85).\n",
        "\n",
        "The model is underestimating the exam score.\n",
        "\n",
        "This happens because the initial weights might not be well-tuned.\n",
        "\n",
        "Loss is Large (1180.98)\n",
        "\n",
        "The loss is high because the predicted score is much lower than the actual score.\n",
        "\n",
        "The error term\n",
        "(\n",
        "𝑦\n",
        "true\n",
        "−\n",
        "𝑦\n",
        "pred\n",
        ")\n",
        "(y\n",
        "true\n",
        "​\n",
        " −y\n",
        "pred\n",
        "​\n",
        " ) is quite large, leading to a significant gradient.\n",
        "\n",
        "Weights Update is Large\n",
        "\n",
        "The new weights are significantly larger than the initial ones:\n",
        "𝑤\n",
        "1\n",
        "w\n",
        "1\n",
        "​\n",
        "  changed from 0.6 to 2.544\n",
        "𝑤\n",
        "2\n",
        "w\n",
        "2\n",
        "​\n",
        "  changed from 0.3 to 39.18\n",
        "\n",
        "This suggests that the learning rate might be too high or the initial weights were too low.\n",
        "\n"
      ],
      "metadata": {
        "id": "n1_poUkSH-Yl"
      }
    },
    {
      "cell_type": "markdown",
      "source": [
        "**Why Updating Weights Using Gradient Descent Reduces Error**\n",
        "\n",
        "Gradient descent minimizes the error by adjusting weights and bias in the direction opposite to the gradient of the loss function. This ensures that with each step:\n",
        "\n",
        "The predicted output gets closer to the actual value.\n",
        "\n",
        "The error (Mean Squared Error in this case) is reduced iteratively.\n",
        "\n",
        "The model converges to an optimal set of parameters that best fit the data."
      ],
      "metadata": {
        "id": "Oe352mUHICJH"
      }
    },
    {
      "cell_type": "code",
      "source": [
        "import numpy as np\n",
        "\n",
        "# Initialize input data (features)\n",
        "x = np.array([4, 80])  # 4 hours studied, previous test score: 80\n",
        "\n",
        "# Initialize weights and bias\n",
        "w = np.array([0.8, 0.9])  # Initial weights\n",
        "b = 10  # Initial bias\n",
        "\n",
        "# Forward Propagation\n",
        "def forward_propagation(x, w, b):\n",
        "    z = np.dot(x, w) + b  # Weighted sum\n",
        "    return z  # Linear activation (No ReLU here, it's a regression task)\n",
        "\n",
        "# Compute prediction\n",
        "y_pred = forward_propagation(x, w, b)\n",
        "y_true = 85  # Actual exam score\n",
        "\n",
        "# Compute Loss (Mean Squared Error)\n",
        "loss = 0.5 * (y_true - y_pred) ** 2\n",
        "\n",
        "# Compute Gradients\n",
        "grad_w = -(y_true - y_pred) * x  # Partial derivatives with respect to weights\n",
        "grad_b = -(y_true - y_pred)  # Partial derivative with respect to bias\n",
        "\n",
        "# Update Weights and Bias\n",
        "learning_rate = 0.05\n",
        "w_new = w - learning_rate * grad_w\n",
        "b_new = b - learning_rate * grad_b\n",
        "\n",
        "# Print Results\n",
        "print(\"Initial Prediction:\", y_pred)\n",
        "print(\"Loss:\", loss)\n",
        "print(\"Updated Weights:\", w_new)\n",
        "print(\"Updated Bias:\", b_new)"
      ],
      "metadata": {
        "colab": {
          "base_uri": "https://localhost:8080/"
        },
        "id": "z0IveC08Leos",
        "outputId": "9e0cdd73-cf4c-4de5-e1dd-06f293c5d61b"
      },
      "execution_count": null,
      "outputs": [
        {
          "output_type": "stream",
          "name": "stdout",
          "text": [
            "Initial Prediction: 85.2\n",
            "Loss: 0.02000000000000057\n",
            "Updated Weights: [0.76 0.1 ]\n",
            "Updated Bias: 9.99\n"
          ]
        }
      ]
    },
    {
      "cell_type": "markdown",
      "source": [
        "# 🌟 Exercise 6 : Visualizing Predictions on the MNIST Dataset\n",
        "\n",
        "Train a simple neural network using TensorFlow/Keras on the MNIST dataset. After training, visualize some of the predictions made by the model.\n",
        "Dataset: The MNIST dataset is included in TensorFlow/Keras.\n",
        "\n",
        "Here are the steps for this exercise :\n",
        "\n",
        "Load the MNIST dataset\n",
        "\n",
        "Normalize the data\n",
        "\n",
        "One-hot encode the labels\n",
        "\n",
        "Build the model\n",
        "\n",
        "Compile the model\n",
        "\n",
        "Train the model\n",
        "\n",
        "Make predictions\n",
        "\n",
        "Visualize some predictions\n"
      ],
      "metadata": {
        "id": "u6Cmm2-DMjxf"
      }
    },
    {
      "cell_type": "markdown",
      "source": [
        "it seems like ex 3"
      ],
      "metadata": {
        "id": "jT7pwicYN0UQ"
      }
    },
    {
      "cell_type": "code",
      "source": [
        "import tensorflow as tf\n",
        "from tensorflow.keras.models import Sequential\n",
        "from tensorflow.keras.layers import Dense, Flatten\n",
        "from tensorflow.keras.utils import to_categorical\n",
        "import matplotlib.pyplot as plt\n",
        "import numpy as np"
      ],
      "metadata": {
        "id": "c98HMH8ZOHdj"
      },
      "execution_count": 1,
      "outputs": []
    },
    {
      "cell_type": "code",
      "source": [
        "# 1. Load the MNIST dataset\n",
        "(x_train, y_train), (x_test, y_test) = tf.keras.datasets.mnist.load_data()"
      ],
      "metadata": {
        "colab": {
          "base_uri": "https://localhost:8080/"
        },
        "id": "08WSkmnZsIw8",
        "outputId": "8f1d6f3e-1695-4664-e3e9-98d6f6499176"
      },
      "execution_count": 2,
      "outputs": [
        {
          "output_type": "stream",
          "name": "stdout",
          "text": [
            "Downloading data from https://storage.googleapis.com/tensorflow/tf-keras-datasets/mnist.npz\n",
            "\u001b[1m11490434/11490434\u001b[0m \u001b[32m━━━━━━━━━━━━━━━━━━━━\u001b[0m\u001b[37m\u001b[0m \u001b[1m0s\u001b[0m 0us/step\n"
          ]
        }
      ]
    },
    {
      "cell_type": "code",
      "source": [
        "# 2. Normalize the data\n",
        "x_train = x_train / 255.0\n",
        "x_test = x_test / 255.0"
      ],
      "metadata": {
        "id": "0fjUcIW_uJ5u"
      },
      "execution_count": 3,
      "outputs": []
    },
    {
      "cell_type": "code",
      "source": [
        "# 3. One-hot encode the labels\n",
        "y_train_cat = to_categorical(y_train, num_classes=10)\n",
        "y_test_cat = to_categorical(y_test, num_classes=10)"
      ],
      "metadata": {
        "id": "XROxk-KSuQpV"
      },
      "execution_count": 4,
      "outputs": []
    },
    {
      "cell_type": "code",
      "source": [
        "# 4. Build the model\n",
        "model = Sequential([\n",
        "    Flatten(input_shape=(28, 28)),\n",
        "    Dense(128, activation='relu'),\n",
        "    Dense(64, activation='relu'),\n",
        "    Dense(10, activation='softmax')\n",
        "])"
      ],
      "metadata": {
        "colab": {
          "base_uri": "https://localhost:8080/"
        },
        "id": "fcj0ndeBuUx8",
        "outputId": "32fce425-27f1-4f88-c4d3-aec946c16634"
      },
      "execution_count": 5,
      "outputs": [
        {
          "output_type": "stream",
          "name": "stderr",
          "text": [
            "/usr/local/lib/python3.11/dist-packages/keras/src/layers/reshaping/flatten.py:37: UserWarning: Do not pass an `input_shape`/`input_dim` argument to a layer. When using Sequential models, prefer using an `Input(shape)` object as the first layer in the model instead.\n",
            "  super().__init__(**kwargs)\n"
          ]
        }
      ]
    },
    {
      "cell_type": "code",
      "source": [
        "# 5. Compile the model\n",
        "model.compile(optimizer='adam',\n",
        "              loss=tf.losses.CategoricalCrossentropy(from_logits=True),\n",
        "              metrics=['accuracy'])"
      ],
      "metadata": {
        "id": "jL6nSsO-uUwl"
      },
      "execution_count": 6,
      "outputs": []
    },
    {
      "cell_type": "code",
      "source": [
        "# 6. Train the model\n",
        "model.fit(x_train, y_train_cat, epochs=5, batch_size=32, validation_split=0.1)"
      ],
      "metadata": {
        "colab": {
          "base_uri": "https://localhost:8080/"
        },
        "id": "j3UQGw43y6ft",
        "outputId": "7f563cf1-01cc-4669-c354-1be8643ce476"
      },
      "execution_count": 8,
      "outputs": [
        {
          "output_type": "stream",
          "name": "stdout",
          "text": [
            "Epoch 1/5\n"
          ]
        },
        {
          "output_type": "stream",
          "name": "stderr",
          "text": [
            "/usr/local/lib/python3.11/dist-packages/keras/src/backend/tensorflow/nn.py:666: UserWarning: \"`categorical_crossentropy` received `from_logits=True`, but the `output` argument was produced by a Softmax activation and thus does not represent logits. Was this intended?\n",
            "  output, from_logits = _get_logits(\n"
          ]
        },
        {
          "output_type": "stream",
          "name": "stdout",
          "text": [
            "\u001b[1m1688/1688\u001b[0m \u001b[32m━━━━━━━━━━━━━━━━━━━━\u001b[0m\u001b[37m\u001b[0m \u001b[1m9s\u001b[0m 4ms/step - accuracy: 0.8651 - loss: 0.4527 - val_accuracy: 0.9645 - val_loss: 0.1164\n",
            "Epoch 2/5\n",
            "\u001b[1m1688/1688\u001b[0m \u001b[32m━━━━━━━━━━━━━━━━━━━━\u001b[0m\u001b[37m\u001b[0m \u001b[1m6s\u001b[0m 4ms/step - accuracy: 0.9670 - loss: 0.1133 - val_accuracy: 0.9685 - val_loss: 0.0998\n",
            "Epoch 3/5\n",
            "\u001b[1m1688/1688\u001b[0m \u001b[32m━━━━━━━━━━━━━━━━━━━━\u001b[0m\u001b[37m\u001b[0m \u001b[1m10s\u001b[0m 4ms/step - accuracy: 0.9773 - loss: 0.0739 - val_accuracy: 0.9750 - val_loss: 0.0832\n",
            "Epoch 4/5\n",
            "\u001b[1m1688/1688\u001b[0m \u001b[32m━━━━━━━━━━━━━━━━━━━━\u001b[0m\u001b[37m\u001b[0m \u001b[1m8s\u001b[0m 4ms/step - accuracy: 0.9822 - loss: 0.0556 - val_accuracy: 0.9748 - val_loss: 0.0828\n",
            "Epoch 5/5\n",
            "\u001b[1m1688/1688\u001b[0m \u001b[32m━━━━━━━━━━━━━━━━━━━━\u001b[0m\u001b[37m\u001b[0m \u001b[1m6s\u001b[0m 4ms/step - accuracy: 0.9866 - loss: 0.0407 - val_accuracy: 0.9788 - val_loss: 0.0729\n"
          ]
        },
        {
          "output_type": "execute_result",
          "data": {
            "text/plain": [
              "<keras.src.callbacks.history.History at 0x7c8edb755610>"
            ]
          },
          "metadata": {},
          "execution_count": 8
        }
      ]
    },
    {
      "cell_type": "code",
      "source": [
        "# 7. Make predictions\n",
        "predictions = model.predict(x_test)\n",
        "predicted_labels = np.argmax(predictions, axis=1)"
      ],
      "metadata": {
        "colab": {
          "base_uri": "https://localhost:8080/"
        },
        "id": "X9JNFZ4p38FN",
        "outputId": "dc487b83-108d-416d-d7c8-701bfd7f9307"
      },
      "execution_count": 9,
      "outputs": [
        {
          "output_type": "stream",
          "name": "stdout",
          "text": [
            "\u001b[1m313/313\u001b[0m \u001b[32m━━━━━━━━━━━━━━━━━━━━\u001b[0m\u001b[37m\u001b[0m \u001b[1m1s\u001b[0m 1ms/step\n"
          ]
        }
      ]
    },
    {
      "cell_type": "code",
      "source": [
        "# 8. Visualize some predictions\n",
        "def plot_predictions(images, true_labels, predicted_labels, n=10):\n",
        "    plt.figure(figsize=(15, 4))\n",
        "    for i in range(n):\n",
        "        plt.subplot(1, n, i + 1)\n",
        "        plt.imshow(images[i], cmap='gray')\n",
        "        plt.title(f\"True: {true_labels[i]}\\nPred: {predicted_labels[i]}\")\n",
        "        plt.axis('off')\n",
        "    plt.tight_layout()\n",
        "    plt.show()\n",
        "\n",
        "# Show predictions for first 10 test images\n",
        "plot_predictions(x_test, y_test, predicted_labels)"
      ],
      "metadata": {
        "colab": {
          "base_uri": "https://localhost:8080/",
          "height": 154
        },
        "id": "dwIN7eu-39_G",
        "outputId": "8035236c-e59a-440c-9ccd-e09f41efbc1c"
      },
      "execution_count": 10,
      "outputs": [
        {
          "output_type": "display_data",
          "data": {
            "text/plain": [
              "<Figure size 1500x400 with 10 Axes>"
            ],
            "image/png": "[encoded data removed]"
          },
          "metadata": {}
        }
      ]
    },
    {
      "cell_type": "code",
      "source": [],
      "metadata": {
        "id": "h87XiSvD399z"
      },
      "execution_count": null,
      "outputs": []
    }
  ]
}