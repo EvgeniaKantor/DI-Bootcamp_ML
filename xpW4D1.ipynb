{
  "nbformat": 4,
  "nbformat_minor": 0,
  "metadata": {
    "colab": {
      "provenance": [],
      "authorship_tag": "ABX9TyPoraUkrpBxvSNi/kNsnhs8",
      "include_colab_link": true
    },
    "kernelspec": {
      "name": "python3",
      "display_name": "Python 3"
    },
    "language_info": {
      "name": "python"
    }
  },
  "cells": [
    {
      "cell_type": "markdown",
      "metadata": {
        "id": "view-in-github",
        "colab_type": "text"
      },
      "source": [
        "<a href=\"https://colab.research.google.com/github/EvgeniaKantor/DI-Bootcamp_ML/blob/main/xpW4D1.ipynb\" target=\"_parent\"><img src=\"https://colab.research.google.com/assets/colab-badge.svg\" alt=\"Open In Colab\"/></a>"
      ]
    },
    {
      "cell_type": "code",
      "source": [
        "import numpy as np"
      ],
      "metadata": {
        "id": "7q58Vv-MlZDa"
      },
      "execution_count": 1,
      "outputs": []
    },
    {
      "cell_type": "markdown",
      "source": [
        "# 🌟 Exercise 1 : Array Creation and Manipulation"
      ],
      "metadata": {
        "id": "-L0AthCClIQi"
      }
    },
    {
      "cell_type": "markdown",
      "source": [
        "Instructions\n",
        "\n",
        "Create a 1D NumPy array containing numbers from 0 to 9.\n",
        "\n",
        "Expected Output:\n",
        "\n",
        "array([0, 1, 2, 3, 4, 5, 6, 7, 8, 9])"
      ],
      "metadata": {
        "id": "0P8RBi_2lMrh"
      }
    },
    {
      "cell_type": "code",
      "execution_count": 2,
      "metadata": {
        "colab": {
          "base_uri": "https://localhost:8080/"
        },
        "id": "RyDHUTOMlBuk",
        "outputId": "3c43f5b1-edb2-416b-e497-62103f809626"
      },
      "outputs": [
        {
          "output_type": "execute_result",
          "data": {
            "text/plain": [
              "array([0, 1, 2, 3, 4, 5, 6, 7, 8, 9])"
            ]
          },
          "metadata": {},
          "execution_count": 2
        }
      ],
      "source": [
        "a1 = np.arange(10)\n",
        "a1"
      ]
    },
    {
      "cell_type": "markdown",
      "source": [
        "# 🌟 Exercise 2 : Type Conversion and Array Operations"
      ],
      "metadata": {
        "id": "0uUoPBBhlmwv"
      }
    },
    {
      "cell_type": "markdown",
      "source": [
        "Instructions\n",
        "\n",
        "Convert a list [3.14, 2.17, 0, 1, 2] into a NumPy array and convert its data type to integer.\n",
        "\n",
        "Expected Output:\n",
        "\n",
        "array([3, 2, 0, 1, 2])"
      ],
      "metadata": {
        "id": "l6cEk7ARlrX9"
      }
    },
    {
      "cell_type": "code",
      "source": [
        "a2 = np.array([3.14, 2.17, 0, 1, 2])\n",
        "a2 = a2.astype(int)\n",
        "a2"
      ],
      "metadata": {
        "colab": {
          "base_uri": "https://localhost:8080/"
        },
        "id": "-RaaLssdlvd5",
        "outputId": "5838b318-f190-49f3-d2a8-00ae20bd4cd8"
      },
      "execution_count": 3,
      "outputs": [
        {
          "output_type": "execute_result",
          "data": {
            "text/plain": [
              "array([3, 2, 0, 1, 2])"
            ]
          },
          "metadata": {},
          "execution_count": 3
        }
      ]
    },
    {
      "cell_type": "markdown",
      "source": [
        "# 🌟 Exercise 3 : Working with Multi-Dimensional Arrays"
      ],
      "metadata": {
        "id": "UHC9o-3Xn1lR"
      }
    },
    {
      "cell_type": "markdown",
      "source": [
        "Instructions\n",
        "\n",
        "Create a 3x3 NumPy array with values ranging from 1 to 9.\n",
        "\n",
        "Expected Output:\n",
        "\n",
        "array([[1, 2, 3],\n",
        "       [4, 5, 6],\n",
        "       [7, 8, 9]])"
      ],
      "metadata": {
        "id": "cgrp7lKFn4zJ"
      }
    },
    {
      "cell_type": "code",
      "source": [
        "a3 = np.arange(1, 10).reshape(3, 3)\n",
        "a3"
      ],
      "metadata": {
        "colab": {
          "base_uri": "https://localhost:8080/"
        },
        "id": "EcguOhCkoAhD",
        "outputId": "ac80348b-c2f7-4aad-ac6d-2030044e2a72"
      },
      "execution_count": 4,
      "outputs": [
        {
          "output_type": "execute_result",
          "data": {
            "text/plain": [
              "array([[1, 2, 3],\n",
              "       [4, 5, 6],\n",
              "       [7, 8, 9]])"
            ]
          },
          "metadata": {},
          "execution_count": 4
        }
      ]
    },
    {
      "cell_type": "markdown",
      "source": [
        "# 🌟 Exercise 4 : Creating Multi-Dimensional Array with Random Numbers"
      ],
      "metadata": {
        "id": "NVvITmqDon6h"
      }
    },
    {
      "cell_type": "markdown",
      "source": [
        "Instructions\n",
        "\n",
        "Create a 2D NumPy array of shape (4, 5) filled with random numbers.\n",
        "\n",
        "Expected Output:\n",
        "\n",
        "array([[0.56, 0.85, 0.01, 0.42, 0.68],\n",
        "       [0.22, 0.37, 0.73, 0.93, 0.39],\n",
        "       [0.44, 0.03, 0.87, 0.02, 0.83],\n",
        "       [0.78, 0.87, 0.98, 0.80, 0.46]])"
      ],
      "metadata": {
        "id": "TkyZXvsAotjw"
      }
    },
    {
      "cell_type": "code",
      "source": [
        "a4 = np.random.rand(4, 5)\n",
        "a4 = np.round(a4, 2)\n",
        "a4"
      ],
      "metadata": {
        "colab": {
          "base_uri": "https://localhost:8080/"
        },
        "id": "oflneKo8o8gg",
        "outputId": "d0055aa7-ebc6-437b-991b-82e4133ff74d"
      },
      "execution_count": 8,
      "outputs": [
        {
          "output_type": "execute_result",
          "data": {
            "text/plain": [
              "array([[0.21, 0.19, 0.97, 0.71, 0.37],\n",
              "       [0.82, 0.79, 0.81, 0.8 , 0.05],\n",
              "       [0.  , 0.37, 0.22, 0.6 , 0.2 ],\n",
              "       [0.21, 0.88, 0.17, 0.76, 0.88]])"
            ]
          },
          "metadata": {},
          "execution_count": 8
        }
      ]
    },
    {
      "cell_type": "markdown",
      "source": [
        "# 🌟 Exercise 5 : Indexing Arrays"
      ],
      "metadata": {
        "id": "CC25ntmnpe0I"
      }
    },
    {
      "cell_type": "markdown",
      "source": [
        "Instructions\n",
        "\n",
        "Select the second row from a given 2D NumPy array.\n",
        "\n",
        "Expected Output:\n",
        "\n",
        "array = np.array([[21,22,23,22,22],[20, 21, 22, 23, 24],[21,22,23,22,22]])"
      ],
      "metadata": {
        "id": "j14hd_OrqXdD"
      }
    },
    {
      "cell_type": "code",
      "source": [
        "a5 = np.array([[21, 22, 23, 22, 22],\n",
        "                  [20, 21, 22, 23, 24],\n",
        "                  [21, 22, 23, 22, 22]])\n",
        "a5[1]"
      ],
      "metadata": {
        "colab": {
          "base_uri": "https://localhost:8080/"
        },
        "id": "spKUwh-Xsq1W",
        "outputId": "94941b8a-7a63-4e8d-a0cf-617d4a9c451b"
      },
      "execution_count": 9,
      "outputs": [
        {
          "output_type": "execute_result",
          "data": {
            "text/plain": [
              "array([20, 21, 22, 23, 24])"
            ]
          },
          "metadata": {},
          "execution_count": 9
        }
      ]
    },
    {
      "cell_type": "markdown",
      "source": [
        "# 🌟 Exercise 6 : Reversing elements"
      ],
      "metadata": {
        "id": "IrUpvu8Usz7n"
      }
    },
    {
      "cell_type": "markdown",
      "source": [
        "Instructions\n",
        "\n",
        "Reverse the order of elements in a given 1D NumPy array (first element becomes last).\n",
        "\n",
        "Expected Output:\n",
        "\n",
        "array([9, 8, 7, 6, 5, 4, 3, 2, 1, 0])"
      ],
      "metadata": {
        "id": "ns00GoWLC62K"
      }
    },
    {
      "cell_type": "code",
      "source": [
        "a6 = a1[::-1]\n",
        "a6"
      ],
      "metadata": {
        "colab": {
          "base_uri": "https://localhost:8080/"
        },
        "id": "_rjo_CxKC3L5",
        "outputId": "f3388df4-bee8-4704-963c-3695f76bba58"
      },
      "execution_count": 11,
      "outputs": [
        {
          "output_type": "execute_result",
          "data": {
            "text/plain": [
              "array([9, 8, 7, 6, 5, 4, 3, 2, 1, 0])"
            ]
          },
          "metadata": {},
          "execution_count": 11
        }
      ]
    },
    {
      "cell_type": "markdown",
      "source": [
        "# 🌟 Exercise 7 : Identity Matrix"
      ],
      "metadata": {
        "id": "SADTdp75DYcz"
      }
    },
    {
      "cell_type": "markdown",
      "source": [
        "Instructions\n",
        "\n",
        "Create a 4x4 identity matrix using NumPy.\n",
        "\n",
        "Expected Output:\n",
        "\n",
        "array([[1., 0., 0., 0.],\n",
        "       [0., 1., 0., 0.],\n",
        "       [0., 0., 1., 0.],\n",
        "       [0., 0., 0., 1.]])"
      ],
      "metadata": {
        "id": "n7eySpddDrFP"
      }
    },
    {
      "cell_type": "code",
      "source": [
        "a7 = np.eye(4)\n",
        "a7"
      ],
      "metadata": {
        "colab": {
          "base_uri": "https://localhost:8080/"
        },
        "id": "iqIq2VSOuWKH",
        "outputId": "6897a88b-7292-4ba8-e0fa-652f5fd7ce7d"
      },
      "execution_count": 14,
      "outputs": [
        {
          "output_type": "execute_result",
          "data": {
            "text/plain": [
              "array([[1., 0., 0., 0.],\n",
              "       [0., 1., 0., 0.],\n",
              "       [0., 0., 1., 0.],\n",
              "       [0., 0., 0., 1.]])"
            ]
          },
          "metadata": {},
          "execution_count": 14
        }
      ]
    },
    {
      "cell_type": "markdown",
      "source": [
        "# 🌟 Exercise 8 : Simple Aggregate **Funcs**"
      ],
      "metadata": {
        "id": "3qKxjpHBFlRd"
      }
    },
    {
      "cell_type": "markdown",
      "source": [
        "Instructions\n",
        "\n",
        "Find the sum and average of a given 1D array.\n",
        "\n",
        "Expected Output:\n",
        "\n",
        "Sum: 45, Average: 4.5"
      ],
      "metadata": {
        "id": "_aHCtc1wFpg8"
      }
    },
    {
      "cell_type": "code",
      "source": [
        "a8 = np.arange(10)\n",
        "a8_sum = np.sum(a8)\n",
        "a8_avg = np.average(a8)\n",
        "print(f\"Sum: {a8_sum}, Average: {a8_avg}\")"
      ],
      "metadata": {
        "colab": {
          "base_uri": "https://localhost:8080/"
        },
        "id": "jSfUvam1GJIZ",
        "outputId": "11021e72-20c2-4b9d-b2f0-cc31ee8f9cdc"
      },
      "execution_count": 16,
      "outputs": [
        {
          "output_type": "stream",
          "name": "stdout",
          "text": [
            "Sum: 45, Average: 4.5\n"
          ]
        }
      ]
    },
    {
      "cell_type": "markdown",
      "source": [
        "# 🌟 Exercise 9 : Create Array and Change its Structure"
      ],
      "metadata": {
        "id": "XKCKBHrJGWti"
      }
    },
    {
      "cell_type": "markdown",
      "source": [
        "Instructions\n",
        "\n",
        "Create a NumPy array with elements from 1 to 20; then reshape it into a 4x5 matrix.\n",
        "\n",
        "Expected Output:\n",
        "\n",
        "array([[ 1,  2,  3,  4,  5],\n",
        "       [ 6,  7,  8,  9, 10],\n",
        "       [11, 12, 13, 14, 15],\n",
        "       [16, 17, 18, 19, 20]])\n"
      ],
      "metadata": {
        "id": "NHHXLAZiGjsT"
      }
    },
    {
      "cell_type": "code",
      "source": [
        "a9 = np.arange(1, 21).reshape(4, 5)\n",
        "a9"
      ],
      "metadata": {
        "colab": {
          "base_uri": "https://localhost:8080/"
        },
        "id": "lssl4BFxGn5w",
        "outputId": "f0ad6dd1-6192-494d-93a3-0d92470469ae"
      },
      "execution_count": 17,
      "outputs": [
        {
          "output_type": "execute_result",
          "data": {
            "text/plain": [
              "array([[ 1,  2,  3,  4,  5],\n",
              "       [ 6,  7,  8,  9, 10],\n",
              "       [11, 12, 13, 14, 15],\n",
              "       [16, 17, 18, 19, 20]])"
            ]
          },
          "metadata": {},
          "execution_count": 17
        }
      ]
    },
    {
      "cell_type": "markdown",
      "source": [
        "# 🌟 Exercise 10 : Conditional Selection of Values"
      ],
      "metadata": {
        "id": "BzEPafilJ8Zp"
      }
    },
    {
      "cell_type": "markdown",
      "source": [
        "Instructions\n",
        "\n",
        "Extract all odd numbers from a given NumPy array.\n",
        "\n",
        "Expected Output:\n",
        "\n",
        "array([1, 3, 5, 7, 9])"
      ],
      "metadata": {
        "id": "ewoJ50EPKoJN"
      }
    },
    {
      "cell_type": "code",
      "source": [
        "a10 = np.arange(1,11)\n",
        "a10 = a10[a10 % 2 == 1]\n",
        "a10"
      ],
      "metadata": {
        "colab": {
          "base_uri": "https://localhost:8080/"
        },
        "id": "N-snVAJbKwkz",
        "outputId": "57160b46-2d1f-40b9-a8b4-ee92bca59851"
      },
      "execution_count": 21,
      "outputs": [
        {
          "output_type": "execute_result",
          "data": {
            "text/plain": [
              "array([1, 3, 5, 7, 9])"
            ]
          },
          "metadata": {},
          "execution_count": 21
        }
      ]
    }
  ]
}