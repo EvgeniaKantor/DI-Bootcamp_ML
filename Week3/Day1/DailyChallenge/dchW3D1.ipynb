{
 "cells": [
  {
   "cell_type": "markdown",
   "metadata": {},
   "source": [
    "Step 1: Search for a relevant case or news story. Consider sources like business journals, news websites, or scientific publications.\n",
    "Step 2: Analyze the role of data analysis in the chosen story. Pay attention to what data was analyzed, the methods used, and the outcomes or decisions driven by the analysis.\n",
    "Step 3: Discuss within your group how the data analysis impacted the situation. Consider questions like: What would have been different without data analysis? How did data analysis contribute to solving a problem or making a decision?\n",
    "Step 4: Present your findings to the class. Focus on explaining the significance of data analysis in the context of your chosen story."
   ]
  },
  {
   "cell_type": "markdown",
   "metadata": {},
   "source": [
    "Knowledgeable Research A Multidisciplinary Journal. Role of Data Analytics in Business Decision Making.\n",
    "\n",
    "*Customer statistics and customization*\n",
    "Netflix uses data analytics to recommend shows and movies to users based on their viewing history and preferences, increasing customer satisfaction and retention.\n",
    "\n",
    "*Operational efficiency*\n",
    "UPS uses data analytics to optimize delivery routes, saving millions of miles and reducing fuel consumption, increasing efficiency and reducing costs.\n",
    "\n",
    "*Predictive maintenance*\n",
    "GE  uses data  analytics in  its industrial  IoT platforms  to monitor  machines and  predict potential failures, minimizing costly downtime.\n",
    "\n",
    "*Risk management*\n",
    "Banks  use  analytical models  to detect  unusual transactions  that may  indicate fraudulent activity, increase security and protect customer assets.\n",
    "\n",
    "*Marketing optimization*\n",
    "Coca-Cola uses data analytics to tailor marketing campaigns to specific audiences based on their behavior, resulting in more targeted and effective advertising.\n"
   ]
  }
 ],
 "metadata": {
  "kernelspec": {
   "display_name": "Python 3",
   "language": "python",
   "name": "python3"
  },
  "language_info": {
   "name": "python",
   "version": "3.11.9"
  }
 },
 "nbformat": 4,
 "nbformat_minor": 2
}
